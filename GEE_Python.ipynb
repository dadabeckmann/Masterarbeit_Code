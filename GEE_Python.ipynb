{
  "nbformat": 4,
  "nbformat_minor": 0,
  "metadata": {
    "colab": {
      "provenance": [],
      "toc_visible": true,
      "mount_file_id": "1OQIgwkyUOldsGTpjMTMhf-k09cV-Tej3",
      "authorship_tag": "ABX9TyO4R0HwlmLp7CmMVPckdVPO",
      "include_colab_link": true
    },
    "kernelspec": {
      "name": "python3",
      "display_name": "Python 3"
    },
    "language_info": {
      "name": "python"
    }
  },
  "cells": [
    {
      "cell_type": "markdown",
      "metadata": {
        "id": "view-in-github",
        "colab_type": "text"
      },
      "source": [
        "<a href=\"https://colab.research.google.com/github/dadabeckmann/Masterarbeit_Code/blob/main/GEE_Python.ipynb\" target=\"_parent\"><img src=\"https://colab.research.google.com/assets/colab-badge.svg\" alt=\"Open In Colab\"/></a>"
      ]
    },
    {
      "cell_type": "markdown",
      "source": [
        "# Räumliche Statistiken"
      ],
      "metadata": {
        "id": "XYPiePkIn8OU"
      }
    },
    {
      "cell_type": "code",
      "source": [
        "import ee\n",
        "# Trigger the authentication flow.\n",
        "ee.Authenticate()\n",
        "\n",
        "# Initialize the library.\n",
        "ee.Initialize(project='ee-dbeckmann')"
      ],
      "metadata": {
        "id": "tILxgzbr-Sl7"
      },
      "execution_count": 1,
      "outputs": []
    },
    {
      "cell_type": "markdown",
      "source": [
        "## Import Packages\n"
      ],
      "metadata": {
        "id": "2XxpE0TpoCa9"
      }
    },
    {
      "cell_type": "code",
      "source": [
        "# Packages\n",
        "import ee\n",
        "import matplotlib.pyplot as plt # for plots\n",
        "import branca.colormap as cm # for colormaps\n",
        "import folium\n",
        "import geemap\n",
        "import numpy as np\n",
        "import pandas as pd\n",
        "import seaborn as sns\n",
        "from datetime import datetime\n"
      ],
      "metadata": {
        "id": "uXYlJ_RTGQ3s"
      },
      "execution_count": 2,
      "outputs": []
    },
    {
      "cell_type": "markdown",
      "source": [
        "## Wolken Filter und Beobachtungsdauer"
      ],
      "metadata": {
        "id": "aqZaimB9oG9y"
      }
    },
    {
      "cell_type": "code",
      "source": [
        "# Load in Shapefile\n",
        "regionInt = ee.FeatureCollection('users/dbeckmann/Tuebingen_Shape')\n",
        "\n",
        "# Define constants\n",
        "START_DATE = '2018-01-01'\n",
        "END_DATE = '2018-12-31'\n",
        "MAX_CLOUD_COVER = 50\n",
        "\n",
        "# Function to filter out cloudy pixels\n",
        "def cloud_mask(img):\n",
        "    cloud_shadow_bit_mask = (1 << 3)  # Bits 3 and 5 are cloud shadow and cloud, respectively.\n",
        "    clouds_bit_mask = (1 << 5)\n",
        "    qa = img.select('QA_PIXEL')  # Get the pixel QA band.\n",
        "    mask = qa.bitwiseAnd(cloud_shadow_bit_mask).eq(0) \\\n",
        "                 .And(qa.bitwiseAnd(clouds_bit_mask).eq(0))  # Both flags should be set to zero, indicating clear conditions.\n",
        "    return img.updateMask(mask)\n",
        "\n",
        "# Load the collection, apply cloud mask, and filter to date and region of interest.\n",
        "col_before = ee.ImageCollection('LANDSAT/LC08/C02/T1_TOA') \\\n",
        "    .filterDate(START_DATE, END_DATE)\n",
        "\n",
        "col_count_before = col_before.size().getInfo()\n",
        "print('Col before Cloud Filter:', col_count_before)\n",
        "\n",
        "col_after = ee.ImageCollection('LANDSAT/LC08/C02/T1_TOA') \\\n",
        "    .filterBounds(regionInt) \\\n",
        "    .filterDate(START_DATE, END_DATE) \\\n",
        "    .map(cloud_mask) \\\n",
        "    .filter(ee.Filter.lt('CLOUD_COVER', MAX_CLOUD_COVER))\n",
        "\n",
        "\n"
      ],
      "metadata": {
        "colab": {
          "base_uri": "https://localhost:8080/",
          "height": 34
        },
        "id": "XyXM0o9nLLCr",
        "outputId": "23f5bc7e-49f0-4533-c7f1-9b0ecca8c9d3"
      },
      "execution_count": null,
      "outputs": [
        {
          "output_type": "display_data",
          "data": {
            "text/plain": [
              "<IPython.core.display.HTML object>"
            ],
            "text/html": [
              "\n",
              "            <style>\n",
              "                .geemap-dark {\n",
              "                    --jp-widgets-color: white;\n",
              "                    --jp-widgets-label-color: white;\n",
              "                    --jp-ui-font-color1: white;\n",
              "                    --jp-layout-color2: #454545;\n",
              "                    background-color: #383838;\n",
              "                }\n",
              "\n",
              "                .geemap-dark .jupyter-button {\n",
              "                    --jp-layout-color3: #383838;\n",
              "                }\n",
              "\n",
              "                .geemap-colab {\n",
              "                    background-color: var(--colab-primary-surface-color, white);\n",
              "                }\n",
              "\n",
              "                .geemap-colab .jupyter-button {\n",
              "                    --jp-layout-color3: var(--colab-primary-surface-color, white);\n",
              "                }\n",
              "            </style>\n",
              "            "
            ]
          },
          "metadata": {}
        },
        {
          "output_type": "stream",
          "name": "stdout",
          "text": [
            "Col before Cloud Filter: 164698\n"
          ]
        }
      ]
    },
    {
      "cell_type": "markdown",
      "source": [
        "## Anzahl an genutzen Bildern"
      ],
      "metadata": {
        "id": "yVwnE2mgoRrC"
      }
    },
    {
      "cell_type": "code",
      "source": [
        "# Count used images\n",
        "image_count = col_after.size().getInfo()\n",
        "print('Number of images in Sentinel-2 collection:', image_count)\n",
        "\n",
        "# Show dates of used images\n",
        "dates = col_after.aggregate_array('system:time_start')\n",
        "formatted_dates = ee.List(dates).map(lambda date: ee.Date(date).format('YYYY-MM-dd')).sort().getInfo()\n",
        "\n",
        "# Print the sorted dates\n",
        "print('Used Dates:', formatted_dates)\n"
      ],
      "metadata": {
        "colab": {
          "base_uri": "https://localhost:8080/",
          "height": 72
        },
        "id": "0XTWNqutLkls",
        "outputId": "989f56ab-69fa-4252-cc4b-4b9322a756ed"
      },
      "execution_count": null,
      "outputs": [
        {
          "output_type": "display_data",
          "data": {
            "text/plain": [
              "<IPython.core.display.HTML object>"
            ],
            "text/html": [
              "\n",
              "            <style>\n",
              "                .geemap-dark {\n",
              "                    --jp-widgets-color: white;\n",
              "                    --jp-widgets-label-color: white;\n",
              "                    --jp-ui-font-color1: white;\n",
              "                    --jp-layout-color2: #454545;\n",
              "                    background-color: #383838;\n",
              "                }\n",
              "\n",
              "                .geemap-dark .jupyter-button {\n",
              "                    --jp-layout-color3: #383838;\n",
              "                }\n",
              "\n",
              "                .geemap-colab {\n",
              "                    background-color: var(--colab-primary-surface-color, white);\n",
              "                }\n",
              "\n",
              "                .geemap-colab .jupyter-button {\n",
              "                    --jp-layout-color3: var(--colab-primary-surface-color, white);\n",
              "                }\n",
              "            </style>\n",
              "            "
            ]
          },
          "metadata": {}
        },
        {
          "output_type": "stream",
          "name": "stdout",
          "text": [
            "Number of images in Sentinel-2 collection: 11\n",
            "Used Dates: ['2018-03-08', '2018-03-24', '2018-04-25', '2018-05-18', '2018-06-03', '2018-07-14', '2018-07-30', '2018-08-06', '2018-08-22', '2018-09-16', '2018-10-18']\n"
          ]
        }
      ]
    },
    {
      "cell_type": "markdown",
      "source": [
        "## Median LST von Untersuchungsgebiet"
      ],
      "metadata": {
        "id": "Lsux02sKHYNF"
      }
    },
    {
      "cell_type": "code",
      "source": [
        "# Generate median composite\n",
        "image = col_after.median()\n",
        "\n",
        "# Select thermal band 10 (with brightness temperature)\n",
        "thermal = image.select('B10') \\\n",
        "    .clip(regionInt) \\\n",
        "\n",
        "# Calculate Normalized Difference Vegetation Index (NDVI) from Landsat surface reflectance\n",
        "ndvi = ee.ImageCollection('LANDSAT/LC08/C02/T1_L2') \\\n",
        "    .filterBounds(regionInt) \\\n",
        "    .filterDate('2018-01-01', '2018-12-31') \\\n",
        "    .median() \\\n",
        "    .normalizedDifference(['SR_B5', 'SR_B4']) \\\n",
        "    .rename('NDVI') \\\n",
        "    .clip(regionInt) \\\n",
        "\n",
        "# Find the minimum and maximum of NDVI\n",
        "min_max = ndvi.reduceRegion(\n",
        "    reducer=ee.Reducer.minMax(),\n",
        "    geometry=regionInt,\n",
        "    scale=30,\n",
        "    maxPixels=1e9\n",
        ")\n",
        "\n",
        "# Calculate fractional vegetation\n",
        "min_val = ee.Number(min_max.get('NDVI_min'))\n",
        "max_val = ee.Number(min_max.get('NDVI_max'))\n",
        "fv = ndvi.subtract(min_val).divide(max_val.subtract(min_val)).rename('FV')\n",
        "\n",
        "# Emissivity calculations\n",
        "a = ee.Number(0.004)\n",
        "b = ee.Number(0.986)\n",
        "em = fv.multiply(a).add(b).rename('EMM')\n",
        "\n",
        "# Calculate LST from emissivity and brightness temperature\n",
        "lst_landsat_median = thermal.expression(\n",
        "    '(Tb / (1 + (0.001145 * (Tb / 1.438)) * log(Ep))) - 273.15',\n",
        "    {\n",
        "        'Tb': thermal.select('B10'),\n",
        "        'Ep': em.select('EMM')\n",
        "    })\n",
        "\n",
        "# Function to load in the vizparams\n",
        "\n",
        "def add_ee_layer(map, ee_image, vis_params, region, name):\n",
        "    \"\"\"Add Earth Engine tile layer to Folium map.\"\"\"\n",
        "    # Get the URL of the Earth Engine TileLayer with a specified region and visualization parameters\n",
        "    tile_url = ee_image.getMapId(vis_params)['tile_fetcher'].url_format\n",
        "\n",
        "    # Add Earth Engine tile layer to Folium map\n",
        "    folium.TileLayer(\n",
        "        tiles=tile_url,\n",
        "        attr=name,\n",
        "        name=name,\n",
        "        overlay=True,\n",
        "    ).add_to(map)\n",
        "\n",
        "    return map\n",
        "\n",
        "# Create a map centered around the region of interest\n",
        "map = folium.Map(location=[48.521637, 9.057645], zoom_start=10)\n",
        "\n",
        "# Define visualization parameters\n",
        "thermal_vis = {'min': 295, 'max': 310, 'palette': ['#2b83ba', '#abdda4', '#ffffbf', '#fdae61', '#d7191c', '#abdda4']}\n",
        "ndvi_vis = {'min': 0, 'max': 1, 'palette': ['blue', 'white', 'green']}\n",
        "fv_vis = {'min': 0, 'max': 1, 'palette': ['blue', 'white', 'green']}\n",
        "em_vis = {'min': 0, 'max': 0.99, 'palette': ['blue', 'white', 'green']}\n",
        "lst_vis = {'min': 15, 'max': 35, 'palette': ['#2b83ba', '#abdda4', '#ffffbf', '#fdae61', '#d7191c', '#abdda4']}\n",
        "\n",
        "# Add layers to the map using the function\n",
        "map = add_ee_layer(map, thermal, thermal_vis, regionInt, 'Landsat_BT')\n",
        "map = add_ee_layer(map, ndvi, ndvi_vis, regionInt, 'NDVI')\n",
        "map = add_ee_layer(map, ndvi, fv_vis, regionInt, 'Fractional Vegetation')\n",
        "map = add_ee_layer(map, ndvi, em_vis, regionInt, 'Emissivity')\n",
        "map = add_ee_layer(map, lst_landsat_median, lst_vis, regionInt, 'LST_Landsat_Median')\n",
        "\n",
        "# Add layer control to toggle different layers\n",
        "folium.LayerControl().add_to(map)\n",
        "\n",
        "# Create a color map for the temperature range\n",
        "temperature_colormap = cm.LinearColormap(lst_vis['palette'],\n",
        "                                         vmin=lst_vis['min'],\n",
        "                                         vmax=lst_vis['max'])\n",
        "legend_html = '''\n",
        "    <div style=\"position: fixed; bottom: 50px; left: 50px; z-index:1000; background-color: white; border: 2px solid grey; padding: 10px;\">\n",
        "        <p><strong>Legend:</strong></p>\n",
        "        <p><span style=\"background-color: #2b83ba; padding: 2px 5px;\"></span> 15°C - 20°C</p>\n",
        "        <p><span style=\"background-color: #abdda4; padding: 2px 5px;\"></span> 20°C - 25°C</p>\n",
        "        <p><span style=\"background-color: #ffffbf; padding: 2px 5px;\"></span> 25°C - 30°C</p>\n",
        "        <p><span style=\"background-color: #fdae61; padding: 2px 5px;\"></span> 30°C - 35°C</p>\n",
        "        <p><span style=\"background-color: #d7191c; padding: 2px 5px;\"></span> > 35°C</p>\n",
        "    </div>\n",
        "'''\n",
        "\n",
        "# Add the color map to the map legend\n",
        "temperature_colormap.caption = 'Temperature (°C)'\n",
        "map.add_child(temperature_colormap)\n",
        "\n",
        "# map.get_root().html.add_child(folium.Element(legend_html))\n",
        "\n",
        "# Display the map\n",
        "map"
      ],
      "metadata": {
        "id": "VjUGjPFDL11P",
        "colab": {
          "base_uri": "https://localhost:8080/",
          "height": 493
        },
        "outputId": "3ac0102a-d5ae-4fb5-cfbf-770c8fb23f7d"
      },
      "execution_count": null,
      "outputs": [
        {
          "output_type": "display_data",
          "data": {
            "text/plain": [
              "<IPython.core.display.HTML object>"
            ],
            "text/html": [
              "\n",
              "            <style>\n",
              "                .geemap-dark {\n",
              "                    --jp-widgets-color: white;\n",
              "                    --jp-widgets-label-color: white;\n",
              "                    --jp-ui-font-color1: white;\n",
              "                    --jp-layout-color2: #454545;\n",
              "                    background-color: #383838;\n",
              "                }\n",
              "\n",
              "                .geemap-dark .jupyter-button {\n",
              "                    --jp-layout-color3: #383838;\n",
              "                }\n",
              "\n",
              "                .geemap-colab {\n",
              "                    background-color: var(--colab-primary-surface-color, white);\n",
              "                }\n",
              "\n",
              "                .geemap-colab .jupyter-button {\n",
              "                    --jp-layout-color3: var(--colab-primary-surface-color, white);\n",
              "                }\n",
              "            </style>\n",
              "            "
            ]
          },
          "metadata": {}
        },
        {
          "output_type": "execute_result",
          "data": {
            "text/plain": [
              "<folium.folium.Map at 0x7a1f3c183970>"
            ],
            "text/html": [
              "<div style=\"width:100%;\"><div style=\"position:relative;width:100%;height:0;padding-bottom:60%;\"><span style=\"color:#565656\">Make this Notebook Trusted to load map: File -> Trust Notebook</span><iframe srcdoc=\"&lt;!DOCTYPE html&gt;\n",
              "&lt;html&gt;\n",
              "&lt;head&gt;\n",
              "    \n",
              "    &lt;meta http-equiv=&quot;content-type&quot; content=&quot;text/html; charset=UTF-8&quot; /&gt;\n",
              "    \n",
              "        &lt;script&gt;\n",
              "            L_NO_TOUCH = false;\n",
              "            L_DISABLE_3D = false;\n",
              "        &lt;/script&gt;\n",
              "    \n",
              "    &lt;style&gt;html, body {width: 100%;height: 100%;margin: 0;padding: 0;}&lt;/style&gt;\n",
              "    &lt;style&gt;#map {position:absolute;top:0;bottom:0;right:0;left:0;}&lt;/style&gt;\n",
              "    &lt;script src=&quot;https://cdn.jsdelivr.net/npm/leaflet@1.9.3/dist/leaflet.js&quot;&gt;&lt;/script&gt;\n",
              "    &lt;script src=&quot;https://code.jquery.com/jquery-1.12.4.min.js&quot;&gt;&lt;/script&gt;\n",
              "    &lt;script src=&quot;https://cdn.jsdelivr.net/npm/bootstrap@5.2.2/dist/js/bootstrap.bundle.min.js&quot;&gt;&lt;/script&gt;\n",
              "    &lt;script src=&quot;https://cdnjs.cloudflare.com/ajax/libs/Leaflet.awesome-markers/2.0.2/leaflet.awesome-markers.js&quot;&gt;&lt;/script&gt;\n",
              "    &lt;link rel=&quot;stylesheet&quot; href=&quot;https://cdn.jsdelivr.net/npm/leaflet@1.9.3/dist/leaflet.css&quot;/&gt;\n",
              "    &lt;link rel=&quot;stylesheet&quot; href=&quot;https://cdn.jsdelivr.net/npm/bootstrap@5.2.2/dist/css/bootstrap.min.css&quot;/&gt;\n",
              "    &lt;link rel=&quot;stylesheet&quot; href=&quot;https://netdna.bootstrapcdn.com/bootstrap/3.0.0/css/bootstrap.min.css&quot;/&gt;\n",
              "    &lt;link rel=&quot;stylesheet&quot; href=&quot;https://cdn.jsdelivr.net/npm/@fortawesome/fontawesome-free@6.2.0/css/all.min.css&quot;/&gt;\n",
              "    &lt;link rel=&quot;stylesheet&quot; href=&quot;https://cdnjs.cloudflare.com/ajax/libs/Leaflet.awesome-markers/2.0.2/leaflet.awesome-markers.css&quot;/&gt;\n",
              "    &lt;link rel=&quot;stylesheet&quot; href=&quot;https://cdn.jsdelivr.net/gh/python-visualization/folium/folium/templates/leaflet.awesome.rotate.min.css&quot;/&gt;\n",
              "    \n",
              "            &lt;meta name=&quot;viewport&quot; content=&quot;width=device-width,\n",
              "                initial-scale=1.0, maximum-scale=1.0, user-scalable=no&quot; /&gt;\n",
              "            &lt;style&gt;\n",
              "                #map_a0d0d33a66e3101a4ca05f4b3fd3ab31 {\n",
              "                    position: relative;\n",
              "                    width: 100.0%;\n",
              "                    height: 100.0%;\n",
              "                    left: 0.0%;\n",
              "                    top: 0.0%;\n",
              "                }\n",
              "                .leaflet-container { font-size: 1rem; }\n",
              "            &lt;/style&gt;\n",
              "        \n",
              "    &lt;script src=&quot;https://cdnjs.cloudflare.com/ajax/libs/d3/3.5.5/d3.min.js&quot;&gt;&lt;/script&gt;\n",
              "&lt;/head&gt;\n",
              "&lt;body&gt;\n",
              "    \n",
              "    \n",
              "            &lt;div class=&quot;folium-map&quot; id=&quot;map_a0d0d33a66e3101a4ca05f4b3fd3ab31&quot; &gt;&lt;/div&gt;\n",
              "        \n",
              "&lt;/body&gt;\n",
              "&lt;script&gt;\n",
              "    \n",
              "    \n",
              "            var map_a0d0d33a66e3101a4ca05f4b3fd3ab31 = L.map(\n",
              "                &quot;map_a0d0d33a66e3101a4ca05f4b3fd3ab31&quot;,\n",
              "                {\n",
              "                    center: [48.521637, 9.057645],\n",
              "                    crs: L.CRS.EPSG3857,\n",
              "                    zoom: 10,\n",
              "                    zoomControl: true,\n",
              "                    preferCanvas: false,\n",
              "                }\n",
              "            );\n",
              "\n",
              "            \n",
              "\n",
              "        \n",
              "    \n",
              "            var tile_layer_de378a5652accab1f7b887d54983b646 = L.tileLayer(\n",
              "                &quot;https://{s}.tile.openstreetmap.org/{z}/{x}/{y}.png&quot;,\n",
              "                {&quot;attribution&quot;: &quot;Data by \\u0026copy; \\u003ca target=\\&quot;_blank\\&quot; href=\\&quot;http://openstreetmap.org\\&quot;\\u003eOpenStreetMap\\u003c/a\\u003e, under \\u003ca target=\\&quot;_blank\\&quot; href=\\&quot;http://www.openstreetmap.org/copyright\\&quot;\\u003eODbL\\u003c/a\\u003e.&quot;, &quot;detectRetina&quot;: false, &quot;maxNativeZoom&quot;: 18, &quot;maxZoom&quot;: 18, &quot;minZoom&quot;: 0, &quot;noWrap&quot;: false, &quot;opacity&quot;: 1, &quot;subdomains&quot;: &quot;abc&quot;, &quot;tms&quot;: false}\n",
              "            ).addTo(map_a0d0d33a66e3101a4ca05f4b3fd3ab31);\n",
              "        \n",
              "    \n",
              "            var tile_layer_8a656629514bef6a2b1015d24e9918fc = L.tileLayer(\n",
              "                &quot;https://earthengine.googleapis.com/v1/projects/ee-dbeckmann/maps/6265fabbaad640846a78188f9d21bdc3-5f1355850fd57fabfda9548c53e29775/tiles/{z}/{x}/{y}&quot;,\n",
              "                {&quot;attribution&quot;: &quot;Landsat_BT&quot;, &quot;detectRetina&quot;: false, &quot;maxNativeZoom&quot;: 18, &quot;maxZoom&quot;: 18, &quot;minZoom&quot;: 0, &quot;noWrap&quot;: false, &quot;opacity&quot;: 1, &quot;subdomains&quot;: &quot;abc&quot;, &quot;tms&quot;: false}\n",
              "            ).addTo(map_a0d0d33a66e3101a4ca05f4b3fd3ab31);\n",
              "        \n",
              "    \n",
              "            var tile_layer_9cc20b8b6a586e396d5f0f49e9c2519b = L.tileLayer(\n",
              "                &quot;https://earthengine.googleapis.com/v1/projects/ee-dbeckmann/maps/6afb17b3aa30bec571ec25d31b7eef5b-3036c7ee6bbd78472c2345b43aefb810/tiles/{z}/{x}/{y}&quot;,\n",
              "                {&quot;attribution&quot;: &quot;NDVI&quot;, &quot;detectRetina&quot;: false, &quot;maxNativeZoom&quot;: 18, &quot;maxZoom&quot;: 18, &quot;minZoom&quot;: 0, &quot;noWrap&quot;: false, &quot;opacity&quot;: 1, &quot;subdomains&quot;: &quot;abc&quot;, &quot;tms&quot;: false}\n",
              "            ).addTo(map_a0d0d33a66e3101a4ca05f4b3fd3ab31);\n",
              "        \n",
              "    \n",
              "            var tile_layer_6210d2fdab8572e0bb5ba91f567eac25 = L.tileLayer(\n",
              "                &quot;https://earthengine.googleapis.com/v1/projects/ee-dbeckmann/maps/6afb17b3aa30bec571ec25d31b7eef5b-6a17c061d3e3dc14d27f450dcb961dd5/tiles/{z}/{x}/{y}&quot;,\n",
              "                {&quot;attribution&quot;: &quot;Fractional Vegetation&quot;, &quot;detectRetina&quot;: false, &quot;maxNativeZoom&quot;: 18, &quot;maxZoom&quot;: 18, &quot;minZoom&quot;: 0, &quot;noWrap&quot;: false, &quot;opacity&quot;: 1, &quot;subdomains&quot;: &quot;abc&quot;, &quot;tms&quot;: false}\n",
              "            ).addTo(map_a0d0d33a66e3101a4ca05f4b3fd3ab31);\n",
              "        \n",
              "    \n",
              "            var tile_layer_7176e0cd0f744946d11730365fbb8f00 = L.tileLayer(\n",
              "                &quot;https://earthengine.googleapis.com/v1/projects/ee-dbeckmann/maps/6d259b5d48d243518d457e961e393344-0a1a689f711ef0721d7b7bcc8fd2b7d4/tiles/{z}/{x}/{y}&quot;,\n",
              "                {&quot;attribution&quot;: &quot;Emissivity&quot;, &quot;detectRetina&quot;: false, &quot;maxNativeZoom&quot;: 18, &quot;maxZoom&quot;: 18, &quot;minZoom&quot;: 0, &quot;noWrap&quot;: false, &quot;opacity&quot;: 1, &quot;subdomains&quot;: &quot;abc&quot;, &quot;tms&quot;: false}\n",
              "            ).addTo(map_a0d0d33a66e3101a4ca05f4b3fd3ab31);\n",
              "        \n",
              "    \n",
              "            var tile_layer_016b38edf28d9b1abb5248e5ad85a0fa = L.tileLayer(\n",
              "                &quot;https://earthengine.googleapis.com/v1/projects/ee-dbeckmann/maps/79dda37ca5aba651fc094014ddfbb5bb-a89d2e2fccc62594f74537b5958b12ef/tiles/{z}/{x}/{y}&quot;,\n",
              "                {&quot;attribution&quot;: &quot;LST_Landsat_Median&quot;, &quot;detectRetina&quot;: false, &quot;maxNativeZoom&quot;: 18, &quot;maxZoom&quot;: 18, &quot;minZoom&quot;: 0, &quot;noWrap&quot;: false, &quot;opacity&quot;: 1, &quot;subdomains&quot;: &quot;abc&quot;, &quot;tms&quot;: false}\n",
              "            ).addTo(map_a0d0d33a66e3101a4ca05f4b3fd3ab31);\n",
              "        \n",
              "    \n",
              "            var layer_control_835b13225bd7a75b2b9586a17ea36a3a = {\n",
              "                base_layers : {\n",
              "                    &quot;openstreetmap&quot; : tile_layer_de378a5652accab1f7b887d54983b646,\n",
              "                },\n",
              "                overlays :  {\n",
              "                    &quot;Landsat_BT&quot; : tile_layer_8a656629514bef6a2b1015d24e9918fc,\n",
              "                    &quot;NDVI&quot; : tile_layer_9cc20b8b6a586e396d5f0f49e9c2519b,\n",
              "                    &quot;Fractional Vegetation&quot; : tile_layer_6210d2fdab8572e0bb5ba91f567eac25,\n",
              "                    &quot;Emissivity&quot; : tile_layer_7176e0cd0f744946d11730365fbb8f00,\n",
              "                    &quot;LST_Landsat_Median&quot; : tile_layer_016b38edf28d9b1abb5248e5ad85a0fa,\n",
              "                },\n",
              "            };\n",
              "            L.control.layers(\n",
              "                layer_control_835b13225bd7a75b2b9586a17ea36a3a.base_layers,\n",
              "                layer_control_835b13225bd7a75b2b9586a17ea36a3a.overlays,\n",
              "                {&quot;autoZIndex&quot;: true, &quot;collapsed&quot;: true, &quot;position&quot;: &quot;topright&quot;}\n",
              "            ).addTo(map_a0d0d33a66e3101a4ca05f4b3fd3ab31);\n",
              "        \n",
              "    \n",
              "    var color_map_11ac80c6a584ad5411eb4a4424d7b1d3 = {};\n",
              "\n",
              "    \n",
              "    color_map_11ac80c6a584ad5411eb4a4424d7b1d3.color = d3.scale.threshold()\n",
              "              .domain([15.0, 15.040080160320642, 15.080160320641282, 15.120240480961924, 15.160320641282565, 15.200400801603207, 15.240480961923847, 15.280561122244489, 15.32064128256513, 15.360721442885772, 15.400801603206412, 15.440881763527054, 15.480961923847696, 15.521042084168336, 15.561122244488978, 15.60120240480962, 15.641282565130261, 15.681362725450901, 15.721442885771543, 15.761523046092185, 15.801603206412826, 15.841683366733466, 15.881763527054108, 15.92184368737475, 15.96192384769539, 16.002004008016034, 16.04208416833667, 16.082164328657313, 16.122244488977955, 16.162324649298597, 16.20240480961924, 16.24248496993988, 16.282565130260522, 16.322645290581164, 16.362725450901802, 16.402805611222444, 16.442885771543086, 16.482965931863728, 16.52304609218437, 16.56312625250501, 16.603206412825653, 16.64328657314629, 16.683366733466933, 16.723446893787575, 16.763527054108216, 16.803607214428858, 16.8436873747495, 16.88376753507014, 16.92384769539078, 16.96392785571142, 17.004008016032063, 17.044088176352705, 17.084168336673347, 17.12424849699399, 17.16432865731463, 17.20440881763527, 17.24448897795591, 17.284569138276552, 17.324649298597194, 17.364729458917836, 17.404809619238478, 17.44488977955912, 17.48496993987976, 17.5250501002004, 17.56513026052104, 17.605210420841683, 17.645290581162325, 17.685370741482966, 17.725450901803608, 17.76553106212425, 17.805611222444888, 17.84569138276553, 17.88577154308617, 17.925851703406813, 17.965931863727455, 18.006012024048097, 18.04609218436874, 18.08617234468938, 18.12625250501002, 18.16633266533066, 18.206412825651302, 18.246492985971944, 18.286573146292586, 18.326653306613228, 18.366733466933866, 18.406813627254508, 18.44689378757515, 18.48697394789579, 18.527054108216433, 18.567134268537075, 18.607214428857716, 18.647294589178358, 18.687374749499, 18.727454909819638, 18.76753507014028, 18.80761523046092, 18.847695390781563, 18.887775551102205, 18.927855711422847, 18.967935871743485, 19.008016032064127, 19.04809619238477, 19.08817635270541, 19.128256513026052, 19.168336673346694, 19.208416833667336, 19.248496993987978, 19.28857715430862, 19.328657314629258, 19.3687374749499, 19.40881763527054, 19.448897795591183, 19.488977955911825, 19.529058116232463, 19.569138276553105, 19.609218436873746, 19.649298597194388, 19.68937875751503, 19.72945891783567, 19.769539078156313, 19.809619238476955, 19.849699398797597, 19.889779559118235, 19.929859719438877, 19.96993987975952, 20.01002004008016, 20.050100200400802, 20.090180360721444, 20.130260521042082, 20.170340681362724, 20.210420841683366, 20.250501002004007, 20.29058116232465, 20.33066132264529, 20.370741482965933, 20.410821643286575, 20.450901803607216, 20.490981963927855, 20.531062124248496, 20.571142284569138, 20.61122244488978, 20.65130260521042, 20.691382765531063, 20.7314629258517, 20.771543086172343, 20.811623246492985, 20.851703406813627, 20.89178356713427, 20.93186372745491, 20.971943887775552, 21.012024048096194, 21.052104208416836, 21.092184368737474, 21.132264529058116, 21.172344689378757, 21.2124248496994, 21.25250501002004, 21.29258517034068, 21.33266533066132, 21.372745490981963, 21.412825651302605, 21.452905811623246, 21.492985971943888, 21.53306613226453, 21.57314629258517, 21.613226452905813, 21.653306613226455, 21.693386773547093, 21.733466933867735, 21.773547094188377, 21.81362725450902, 21.85370741482966, 21.8937875751503, 21.93386773547094, 21.973947895791582, 22.014028056112224, 22.054108216432866, 22.094188376753507, 22.13426853707415, 22.17434869739479, 22.214428857715433, 22.25450901803607, 22.294589178356713, 22.334669338677354, 22.374749498997996, 22.414829659318638, 22.45490981963928, 22.494989979959918, 22.53507014028056, 22.5751503006012, 22.615230460921843, 22.655310621242485, 22.695390781563127, 22.73547094188377, 22.77555110220441, 22.815631262525052, 22.85571142284569, 22.895791583166332, 22.935871743486974, 22.975951903807616, 23.016032064128254, 23.056112224448896, 23.096192384769537, 23.13627254509018, 23.17635270541082, 23.216432865731463, 23.256513026052104, 23.296593186372746, 23.336673346693388, 23.37675350701403, 23.41683366733467, 23.45691382765531, 23.49699398797595, 23.537074148296593, 23.577154308617235, 23.617234468937873, 23.657314629258515, 23.697394789579157, 23.7374749498998, 23.77755511022044, 23.817635270541082, 23.857715430861724, 23.897795591182366, 23.937875751503007, 23.97795591182365, 24.01803607214429, 24.05811623246493, 24.09819639278557, 24.138276553106213, 24.178356713426854, 24.218436873747493, 24.258517034068134, 24.298597194388776, 24.338677354709418, 24.37875751503006, 24.4188376753507, 24.458917835671343, 24.498997995991985, 24.539078156312627, 24.57915831663327, 24.61923847695391, 24.65931863727455, 24.69939879759519, 24.739478957915832, 24.77955911823647, 24.819639278557112, 24.859719438877754, 24.899799599198396, 24.939879759519037, 24.97995991983968, 25.02004008016032, 25.060120240480963, 25.100200400801604, 25.140280561122246, 25.180360721442888, 25.22044088176353, 25.260521042084168, 25.30060120240481, 25.34068136272545, 25.38076152304609, 25.42084168336673, 25.460921843687373, 25.501002004008015, 25.541082164328657, 25.5811623246493, 25.62124248496994, 25.661322645290582, 25.701402805611224, 25.741482965931866, 25.781563126252507, 25.821643286573146, 25.861723446893787, 25.90180360721443, 25.94188376753507, 25.98196392785571, 26.02204408817635, 26.062124248496993, 26.102204408817634, 26.142284569138276, 26.182364729458918, 26.22244488977956, 26.2625250501002, 26.302605210420843, 26.342685370741485, 26.382765531062127, 26.422845691382765, 26.462925851703407, 26.50300601202405, 26.54308617234469, 26.58316633266533, 26.62324649298597, 26.663326653306612, 26.703406813627254, 26.743486973947896, 26.783567134268537, 26.82364729458918, 26.86372745490982, 26.903807615230463, 26.943887775551104, 26.983967935871746, 27.024048096192384, 27.064128256513026, 27.104208416833668, 27.144288577154306, 27.184368737474948, 27.22444889779559, 27.26452905811623, 27.304609218436873, 27.344689378757515, 27.384769539078157, 27.4248496993988, 27.46492985971944, 27.505010020040082, 27.545090180360724, 27.585170340681362, 27.625250501002004, 27.665330661322646, 27.705410821643287, 27.745490981963925, 27.785571142284567, 27.82565130260521, 27.86573146292585, 27.905811623246493, 27.945891783567134, 27.985971943887776, 28.026052104208418, 28.06613226452906, 28.1062124248497, 28.146292585170343, 28.18637274549098, 28.226452905811623, 28.266533066132265, 28.306613226452907, 28.346693386773545, 28.386773547094187, 28.42685370741483, 28.46693386773547, 28.507014028056112, 28.547094188376754, 28.587174348697395, 28.627254509018037, 28.66733466933868, 28.70741482965932, 28.747494989979963, 28.7875751503006, 28.827655310621243, 28.867735470941884, 28.907815631262523, 28.947895791583164, 28.987975951903806, 29.028056112224448, 29.06813627254509, 29.10821643286573, 29.148296593186373, 29.188376753507015, 29.228456913827657, 29.2685370741483, 29.30861723446894, 29.34869739478958, 29.38877755511022, 29.428857715430862, 29.468937875751504, 29.509018036072142, 29.549098196392784, 29.589178356713425, 29.629258517034067, 29.66933867735471, 29.70941883767535, 29.749498997995993, 29.789579158316634, 29.829659318637276, 29.869739478957918, 29.90981963927856, 29.949899799599198, 29.98997995991984, 30.03006012024048, 30.070140280561123, 30.11022044088176, 30.150300601202403, 30.190380761523045, 30.230460921843687, 30.27054108216433, 30.31062124248497, 30.350701402805612, 30.390781563126254, 30.430861723446895, 30.470941883767537, 30.51102204408818, 30.551102204408817, 30.59118236472946, 30.6312625250501, 30.67134268537074, 30.71142284569138, 30.751503006012022, 30.791583166332664, 30.831663326653306, 30.871743486973948, 30.91182364729459, 30.95190380761523, 30.991983967935873, 31.03206412825651, 31.072144288577153, 31.112224448897795, 31.152304609218437, 31.19238476953908, 31.23246492985972, 31.272545090180362, 31.312625250501004, 31.352705410821642, 31.392785571142284, 31.432865731462925, 31.472945891783567, 31.51302605210421, 31.55310621242485, 31.593186372745492, 31.63326653306613, 31.673346693386772, 31.713426853707414, 31.753507014028056, 31.793587174348698, 31.83366733466934, 31.87374749498998, 31.91382765531062, 31.95390781563126, 31.993987975951903, 32.034068136272545, 32.07414829659319, 32.11422845691383, 32.15430861723447, 32.19438877755511, 32.23446893787575, 32.27454909819639, 32.31462925851703, 32.35470941883767, 32.394789579158314, 32.434869739478955, 32.4749498997996, 32.51503006012024, 32.55511022044088, 32.59519038076152, 32.635270541082164, 32.675350701402806, 32.71543086172345, 32.75551102204409, 32.79559118236473, 32.83567134268537, 32.875751503006015, 32.91583166332666, 32.9559118236473, 32.99599198396794, 33.03607214428858, 33.076152304609224, 33.11623246492986, 33.1563126252505, 33.19639278557114, 33.236472945891784, 33.276553106212425, 33.31663326653307, 33.35671342685371, 33.39679358717434, 33.436873747494985, 33.47695390781563, 33.51703406813627, 33.55711422845691, 33.59719438877755, 33.637274549098194, 33.677354709418836, 33.71743486973948, 33.75751503006012, 33.79759519038076, 33.8376753507014, 33.877755511022045, 33.91783567134269, 33.95791583166333, 33.99799599198397, 34.03807615230461, 34.078156312625254, 34.118236472945895, 34.15831663326654, 34.19839679358718, 34.23847695390782, 34.278557114228455, 34.3186372745491, 34.35871743486974, 34.39879759519038, 34.43887775551102, 34.478957915831664, 34.519038076152306, 34.55911823647294, 34.59919839679358, 34.639278557114224, 34.679358717434866, 34.71943887775551, 34.75951903807615, 34.79959919839679, 34.83967935871743, 34.879759519038075, 34.91983967935872, 34.95991983967936, 35.0])\n",
              "              .range([&#x27;#2b83baff&#x27;, &#x27;#2c84baff&#x27;, &#x27;#2d85baff&#x27;, &#x27;#2f86baff&#x27;, &#x27;#3087b9ff&#x27;, &#x27;#3188b9ff&#x27;, &#x27;#3288b9ff&#x27;, &#x27;#3489b9ff&#x27;, &#x27;#358ab8ff&#x27;, &#x27;#368bb8ff&#x27;, &#x27;#388cb8ff&#x27;, &#x27;#398db8ff&#x27;, &#x27;#3a8eb8ff&#x27;, &#x27;#3b8fb7ff&#x27;, &#x27;#3d90b7ff&#x27;, &#x27;#3e91b7ff&#x27;, &#x27;#3f91b7ff&#x27;, &#x27;#4192b6ff&#x27;, &#x27;#4293b6ff&#x27;, &#x27;#4394b6ff&#x27;, &#x27;#4495b6ff&#x27;, &#x27;#4696b6ff&#x27;, &#x27;#4797b5ff&#x27;, &#x27;#4898b5ff&#x27;, &#x27;#4a99b5ff&#x27;, &#x27;#4b9ab5ff&#x27;, &#x27;#4c9bb4ff&#x27;, &#x27;#4d9bb4ff&#x27;, &#x27;#4f9cb4ff&#x27;, &#x27;#509db4ff&#x27;, &#x27;#519eb4ff&#x27;, &#x27;#539fb3ff&#x27;, &#x27;#54a0b3ff&#x27;, &#x27;#55a1b3ff&#x27;, &#x27;#56a2b3ff&#x27;, &#x27;#58a3b2ff&#x27;, &#x27;#59a4b2ff&#x27;, &#x27;#5aa5b2ff&#x27;, &#x27;#5ca5b2ff&#x27;, &#x27;#5da6b2ff&#x27;, &#x27;#5ea7b1ff&#x27;, &#x27;#5fa8b1ff&#x27;, &#x27;#61a9b1ff&#x27;, &#x27;#62aab1ff&#x27;, &#x27;#63abb0ff&#x27;, &#x27;#65acb0ff&#x27;, &#x27;#66adb0ff&#x27;, &#x27;#67aeb0ff&#x27;, &#x27;#68aeb0ff&#x27;, &#x27;#6aafafff&#x27;, &#x27;#6bb0afff&#x27;, &#x27;#6cb1afff&#x27;, &#x27;#6eb2afff&#x27;, &#x27;#6fb3afff&#x27;, &#x27;#70b4aeff&#x27;, &#x27;#71b5aeff&#x27;, &#x27;#73b6aeff&#x27;, &#x27;#74b7aeff&#x27;, &#x27;#75b8adff&#x27;, &#x27;#77b8adff&#x27;, &#x27;#78b9adff&#x27;, &#x27;#79baadff&#x27;, &#x27;#7abbadff&#x27;, &#x27;#7cbcacff&#x27;, &#x27;#7dbdacff&#x27;, &#x27;#7ebeacff&#x27;, &#x27;#80bfacff&#x27;, &#x27;#81c0abff&#x27;, &#x27;#82c1abff&#x27;, &#x27;#84c1abff&#x27;, &#x27;#85c2abff&#x27;, &#x27;#86c3abff&#x27;, &#x27;#87c4aaff&#x27;, &#x27;#89c5aaff&#x27;, &#x27;#8ac6aaff&#x27;, &#x27;#8bc7aaff&#x27;, &#x27;#8dc8a9ff&#x27;, &#x27;#8ec9a9ff&#x27;, &#x27;#8fcaa9ff&#x27;, &#x27;#90cba9ff&#x27;, &#x27;#92cba9ff&#x27;, &#x27;#93cca8ff&#x27;, &#x27;#94cda8ff&#x27;, &#x27;#96cea8ff&#x27;, &#x27;#97cfa8ff&#x27;, &#x27;#98d0a7ff&#x27;, &#x27;#99d1a7ff&#x27;, &#x27;#9bd2a7ff&#x27;, &#x27;#9cd3a7ff&#x27;, &#x27;#9dd4a7ff&#x27;, &#x27;#9fd4a6ff&#x27;, &#x27;#a0d5a6ff&#x27;, &#x27;#a1d6a6ff&#x27;, &#x27;#a2d7a6ff&#x27;, &#x27;#a4d8a5ff&#x27;, &#x27;#a5d9a5ff&#x27;, &#x27;#a6daa5ff&#x27;, &#x27;#a8dba5ff&#x27;, &#x27;#a9dca5ff&#x27;, &#x27;#aadda4ff&#x27;, &#x27;#abdda4ff&#x27;, &#x27;#acdea4ff&#x27;, &#x27;#addea5ff&#x27;, &#x27;#aedea5ff&#x27;, &#x27;#afdfa5ff&#x27;, &#x27;#b0dfa6ff&#x27;, &#x27;#b0dfa6ff&#x27;, &#x27;#b1e0a6ff&#x27;, &#x27;#b2e0a6ff&#x27;, &#x27;#b3e1a7ff&#x27;, &#x27;#b4e1a7ff&#x27;, &#x27;#b5e1a7ff&#x27;, &#x27;#b5e2a7ff&#x27;, &#x27;#b6e2a8ff&#x27;, &#x27;#b7e2a8ff&#x27;, &#x27;#b8e3a8ff&#x27;, &#x27;#b9e3a9ff&#x27;, &#x27;#bae3a9ff&#x27;, &#x27;#bbe4a9ff&#x27;, &#x27;#bbe4a9ff&#x27;, &#x27;#bce4aaff&#x27;, &#x27;#bde5aaff&#x27;, &#x27;#bee5aaff&#x27;, &#x27;#bfe5aaff&#x27;, &#x27;#c0e6abff&#x27;, &#x27;#c0e6abff&#x27;, &#x27;#c1e6abff&#x27;, &#x27;#c2e7acff&#x27;, &#x27;#c3e7acff&#x27;, &#x27;#c4e7acff&#x27;, &#x27;#c5e8acff&#x27;, &#x27;#c6e8adff&#x27;, &#x27;#c6e8adff&#x27;, &#x27;#c7e9adff&#x27;, &#x27;#c8e9adff&#x27;, &#x27;#c9e9aeff&#x27;, &#x27;#caeaaeff&#x27;, &#x27;#cbeaaeff&#x27;, &#x27;#cbeaafff&#x27;, &#x27;#ccebafff&#x27;, &#x27;#cdebafff&#x27;, &#x27;#ceebafff&#x27;, &#x27;#cfecb0ff&#x27;, &#x27;#d0ecb0ff&#x27;, &#x27;#d1ecb0ff&#x27;, &#x27;#d1edb0ff&#x27;, &#x27;#d2edb1ff&#x27;, &#x27;#d3eeb1ff&#x27;, &#x27;#d4eeb1ff&#x27;, &#x27;#d5eeb2ff&#x27;, &#x27;#d6efb2ff&#x27;, &#x27;#d6efb2ff&#x27;, &#x27;#d7efb2ff&#x27;, &#x27;#d8f0b3ff&#x27;, &#x27;#d9f0b3ff&#x27;, &#x27;#daf0b3ff&#x27;, &#x27;#dbf1b3ff&#x27;, &#x27;#dcf1b4ff&#x27;, &#x27;#dcf1b4ff&#x27;, &#x27;#ddf2b4ff&#x27;, &#x27;#def2b4ff&#x27;, &#x27;#dff2b5ff&#x27;, &#x27;#e0f3b5ff&#x27;, &#x27;#e1f3b5ff&#x27;, &#x27;#e1f3b6ff&#x27;, &#x27;#e2f4b6ff&#x27;, &#x27;#e3f4b6ff&#x27;, &#x27;#e4f4b6ff&#x27;, &#x27;#e5f5b7ff&#x27;, &#x27;#e6f5b7ff&#x27;, &#x27;#e6f5b7ff&#x27;, &#x27;#e7f6b7ff&#x27;, &#x27;#e8f6b8ff&#x27;, &#x27;#e9f6b8ff&#x27;, &#x27;#eaf7b8ff&#x27;, &#x27;#ebf7b9ff&#x27;, &#x27;#ecf7b9ff&#x27;, &#x27;#ecf8b9ff&#x27;, &#x27;#edf8b9ff&#x27;, &#x27;#eef8baff&#x27;, &#x27;#eff9baff&#x27;, &#x27;#f0f9baff&#x27;, &#x27;#f1f9baff&#x27;, &#x27;#f1fabbff&#x27;, &#x27;#f2fabbff&#x27;, &#x27;#f3fbbbff&#x27;, &#x27;#f4fbbcff&#x27;, &#x27;#f5fbbcff&#x27;, &#x27;#f6fcbcff&#x27;, &#x27;#f7fcbcff&#x27;, &#x27;#f7fcbdff&#x27;, &#x27;#f8fdbdff&#x27;, &#x27;#f9fdbdff&#x27;, &#x27;#fafdbdff&#x27;, &#x27;#fbfebeff&#x27;, &#x27;#fcfebeff&#x27;, &#x27;#fcfebeff&#x27;, &#x27;#fdffbfff&#x27;, &#x27;#feffbfff&#x27;, &#x27;#ffffbfff&#x27;, &#x27;#ffffbfff&#x27;, &#x27;#fffebeff&#x27;, &#x27;#fffebdff&#x27;, &#x27;#fffdbcff&#x27;, &#x27;#fffcbbff&#x27;, &#x27;#fffbbaff&#x27;, &#x27;#fffab9ff&#x27;, &#x27;#fff9b8ff&#x27;, &#x27;#fff9b7ff&#x27;, &#x27;#fff8b6ff&#x27;, &#x27;#fff7b5ff&#x27;, &#x27;#fff6b4ff&#x27;, &#x27;#fff5b4ff&#x27;, &#x27;#fff5b3ff&#x27;, &#x27;#fff4b2ff&#x27;, &#x27;#fff3b1ff&#x27;, &#x27;#fff2b0ff&#x27;, &#x27;#fff1afff&#x27;, &#x27;#fff1aeff&#x27;, &#x27;#fff0adff&#x27;, &#x27;#ffefacff&#x27;, &#x27;#ffeeabff&#x27;, &#x27;#ffedaaff&#x27;, &#x27;#ffeca9ff&#x27;, &#x27;#ffeca8ff&#x27;, &#x27;#ffeba7ff&#x27;, &#x27;#ffeaa6ff&#x27;, &#x27;#ffe9a5ff&#x27;, &#x27;#ffe8a4ff&#x27;, &#x27;#ffe8a3ff&#x27;, &#x27;#ffe7a3ff&#x27;, &#x27;#ffe6a2ff&#x27;, &#x27;#ffe5a1ff&#x27;, &#x27;#ffe4a0ff&#x27;, &#x27;#ffe39fff&#x27;, &#x27;#ffe39eff&#x27;, &#x27;#ffe29dff&#x27;, &#x27;#ffe19cff&#x27;, &#x27;#ffe09bff&#x27;, &#x27;#ffdf9aff&#x27;, &#x27;#ffdf99ff&#x27;, &#x27;#ffde98ff&#x27;, &#x27;#ffdd97ff&#x27;, &#x27;#ffdc96ff&#x27;, &#x27;#ffdb95ff&#x27;, &#x27;#ffdb94ff&#x27;, &#x27;#ffda93ff&#x27;, &#x27;#ffd992ff&#x27;, &#x27;#ffd891ff&#x27;, &#x27;#ffd791ff&#x27;, &#x27;#fed690ff&#x27;, &#x27;#fed68fff&#x27;, &#x27;#fed58eff&#x27;, &#x27;#fed48dff&#x27;, &#x27;#fed38cff&#x27;, &#x27;#fed28bff&#x27;, &#x27;#fed28aff&#x27;, &#x27;#fed189ff&#x27;, &#x27;#fed088ff&#x27;, &#x27;#fecf87ff&#x27;, &#x27;#fece86ff&#x27;, &#x27;#fecd85ff&#x27;, &#x27;#fecd84ff&#x27;, &#x27;#fecc83ff&#x27;, &#x27;#fecb82ff&#x27;, &#x27;#feca81ff&#x27;, &#x27;#fec980ff&#x27;, &#x27;#fec980ff&#x27;, &#x27;#fec87fff&#x27;, &#x27;#fec77eff&#x27;, &#x27;#fec67dff&#x27;, &#x27;#fec57cff&#x27;, &#x27;#fec57bff&#x27;, &#x27;#fec47aff&#x27;, &#x27;#fec379ff&#x27;, &#x27;#fec278ff&#x27;, &#x27;#fec177ff&#x27;, &#x27;#fec076ff&#x27;, &#x27;#fec075ff&#x27;, &#x27;#febf74ff&#x27;, &#x27;#febe73ff&#x27;, &#x27;#febd72ff&#x27;, &#x27;#febc71ff&#x27;, &#x27;#febc70ff&#x27;, &#x27;#febb6fff&#x27;, &#x27;#feba6eff&#x27;, &#x27;#feb96eff&#x27;, &#x27;#feb86dff&#x27;, &#x27;#feb76cff&#x27;, &#x27;#feb76bff&#x27;, &#x27;#feb66aff&#x27;, &#x27;#feb569ff&#x27;, &#x27;#feb468ff&#x27;, &#x27;#feb367ff&#x27;, &#x27;#feb366ff&#x27;, &#x27;#feb265ff&#x27;, &#x27;#feb164ff&#x27;, &#x27;#feb063ff&#x27;, &#x27;#feaf62ff&#x27;, &#x27;#feaf61ff&#x27;, &#x27;#fdad60ff&#x27;, &#x27;#fdac60ff&#x27;, &#x27;#fcaa5fff&#x27;, &#x27;#fca95eff&#x27;, &#x27;#fca75eff&#x27;, &#x27;#fba65dff&#x27;, &#x27;#fba45cff&#x27;, &#x27;#fba35cff&#x27;, &#x27;#faa15bff&#x27;, &#x27;#faa05aff&#x27;, &#x27;#f99e5aff&#x27;, &#x27;#f99d59ff&#x27;, &#x27;#f99b58ff&#x27;, &#x27;#f89a57ff&#x27;, &#x27;#f89857ff&#x27;, &#x27;#f89756ff&#x27;, &#x27;#f79555ff&#x27;, &#x27;#f79455ff&#x27;, &#x27;#f69254ff&#x27;, &#x27;#f69153ff&#x27;, &#x27;#f68f53ff&#x27;, &#x27;#f58e52ff&#x27;, &#x27;#f58c51ff&#x27;, &#x27;#f48b50ff&#x27;, &#x27;#f48950ff&#x27;, &#x27;#f4884fff&#x27;, &#x27;#f3864eff&#x27;, &#x27;#f3854eff&#x27;, &#x27;#f3834dff&#x27;, &#x27;#f2824cff&#x27;, &#x27;#f2804cff&#x27;, &#x27;#f17f4bff&#x27;, &#x27;#f17d4aff&#x27;, &#x27;#f17c4aff&#x27;, &#x27;#f07a49ff&#x27;, &#x27;#f07948ff&#x27;, &#x27;#f07747ff&#x27;, &#x27;#ef7647ff&#x27;, &#x27;#ef7446ff&#x27;, &#x27;#ee7345ff&#x27;, &#x27;#ee7145ff&#x27;, &#x27;#ee7044ff&#x27;, &#x27;#ed6e43ff&#x27;, &#x27;#ed6d43ff&#x27;, &#x27;#ec6b42ff&#x27;, &#x27;#ec6a41ff&#x27;, &#x27;#ec6841ff&#x27;, &#x27;#eb6740ff&#x27;, &#x27;#eb653fff&#x27;, &#x27;#eb643eff&#x27;, &#x27;#ea623eff&#x27;, &#x27;#ea613dff&#x27;, &#x27;#e95f3cff&#x27;, &#x27;#e95e3cff&#x27;, &#x27;#e95c3bff&#x27;, &#x27;#e85b3aff&#x27;, &#x27;#e8593aff&#x27;, &#x27;#e75839ff&#x27;, &#x27;#e75638ff&#x27;, &#x27;#e75538ff&#x27;, &#x27;#e65337ff&#x27;, &#x27;#e65236ff&#x27;, &#x27;#e65035ff&#x27;, &#x27;#e54f35ff&#x27;, &#x27;#e54d34ff&#x27;, &#x27;#e44c33ff&#x27;, &#x27;#e44a33ff&#x27;, &#x27;#e44932ff&#x27;, &#x27;#e34731ff&#x27;, &#x27;#e34631ff&#x27;, &#x27;#e34430ff&#x27;, &#x27;#e2432fff&#x27;, &#x27;#e2412eff&#x27;, &#x27;#e1402eff&#x27;, &#x27;#e13e2dff&#x27;, &#x27;#e13d2cff&#x27;, &#x27;#e03b2cff&#x27;, &#x27;#e03a2bff&#x27;, &#x27;#df382aff&#x27;, &#x27;#df372aff&#x27;, &#x27;#df3529ff&#x27;, &#x27;#de3428ff&#x27;, &#x27;#de3228ff&#x27;, &#x27;#de3127ff&#x27;, &#x27;#dd2f26ff&#x27;, &#x27;#dd2e25ff&#x27;, &#x27;#dc2c25ff&#x27;, &#x27;#dc2b24ff&#x27;, &#x27;#dc2923ff&#x27;, &#x27;#db2823ff&#x27;, &#x27;#db2622ff&#x27;, &#x27;#da2521ff&#x27;, &#x27;#da2321ff&#x27;, &#x27;#da2220ff&#x27;, &#x27;#d9201fff&#x27;, &#x27;#d91f1fff&#x27;, &#x27;#d91d1eff&#x27;, &#x27;#d81c1dff&#x27;, &#x27;#d81a1cff&#x27;, &#x27;#d7191cff&#x27;, &#x27;#d71a1dff&#x27;, &#x27;#d71c1eff&#x27;, &#x27;#d61e1fff&#x27;, &#x27;#d62021ff&#x27;, &#x27;#d52222ff&#x27;, &#x27;#d52424ff&#x27;, &#x27;#d42625ff&#x27;, &#x27;#d42826ff&#x27;, &#x27;#d32a28ff&#x27;, &#x27;#d32c29ff&#x27;, &#x27;#d32e2aff&#x27;, &#x27;#d2302cff&#x27;, &#x27;#d2322dff&#x27;, &#x27;#d1342eff&#x27;, &#x27;#d13630ff&#x27;, &#x27;#d03831ff&#x27;, &#x27;#d03a33ff&#x27;, &#x27;#cf3c34ff&#x27;, &#x27;#cf3e35ff&#x27;, &#x27;#cf4037ff&#x27;, &#x27;#ce4238ff&#x27;, &#x27;#ce4439ff&#x27;, &#x27;#cd463bff&#x27;, &#x27;#cd483cff&#x27;, &#x27;#cc493eff&#x27;, &#x27;#cc4b3fff&#x27;, &#x27;#cb4d40ff&#x27;, &#x27;#cb4f42ff&#x27;, &#x27;#cb5143ff&#x27;, &#x27;#ca5344ff&#x27;, &#x27;#ca5546ff&#x27;, &#x27;#c95747ff&#x27;, &#x27;#c95948ff&#x27;, &#x27;#c85b4aff&#x27;, &#x27;#c85d4bff&#x27;, &#x27;#c75f4dff&#x27;, &#x27;#c7614eff&#x27;, &#x27;#c7634fff&#x27;, &#x27;#c66551ff&#x27;, &#x27;#c66752ff&#x27;, &#x27;#c56953ff&#x27;, &#x27;#c56b55ff&#x27;, &#x27;#c46d56ff&#x27;, &#x27;#c46f58ff&#x27;, &#x27;#c47159ff&#x27;, &#x27;#c3735aff&#x27;, &#x27;#c3755cff&#x27;, &#x27;#c2775dff&#x27;, &#x27;#c2795eff&#x27;, &#x27;#c17b60ff&#x27;, &#x27;#c17d61ff&#x27;, &#x27;#c07f62ff&#x27;, &#x27;#c08164ff&#x27;, &#x27;#c08365ff&#x27;, &#x27;#bf8567ff&#x27;, &#x27;#bf8768ff&#x27;, &#x27;#be8969ff&#x27;, &#x27;#be8b6bff&#x27;, &#x27;#bd8d6cff&#x27;, &#x27;#bd8f6dff&#x27;, &#x27;#bc906fff&#x27;, &#x27;#bc9270ff&#x27;, &#x27;#bc9472ff&#x27;, &#x27;#bb9673ff&#x27;, &#x27;#bb9874ff&#x27;, &#x27;#ba9a76ff&#x27;, &#x27;#ba9c77ff&#x27;, &#x27;#b99e78ff&#x27;, &#x27;#b9a07aff&#x27;, &#x27;#b8a27bff&#x27;, &#x27;#b8a47cff&#x27;, &#x27;#b8a67eff&#x27;, &#x27;#b7a87fff&#x27;, &#x27;#b7aa81ff&#x27;, &#x27;#b6ac82ff&#x27;, &#x27;#b6ae83ff&#x27;, &#x27;#b5b085ff&#x27;, &#x27;#b5b286ff&#x27;, &#x27;#b4b487ff&#x27;, &#x27;#b4b689ff&#x27;, &#x27;#b4b88aff&#x27;, &#x27;#b3ba8cff&#x27;, &#x27;#b3bc8dff&#x27;, &#x27;#b2be8eff&#x27;, &#x27;#b2c090ff&#x27;, &#x27;#b1c291ff&#x27;, &#x27;#b1c492ff&#x27;, &#x27;#b0c694ff&#x27;, &#x27;#b0c895ff&#x27;, &#x27;#b0ca96ff&#x27;, &#x27;#afcc98ff&#x27;, &#x27;#afce99ff&#x27;, &#x27;#aed09bff&#x27;, &#x27;#aed29cff&#x27;, &#x27;#add49dff&#x27;, &#x27;#add59fff&#x27;, &#x27;#acd7a0ff&#x27;, &#x27;#acd9a1ff&#x27;, &#x27;#acdba3ff&#x27;, &#x27;#abdda4ff&#x27;]);\n",
              "    \n",
              "\n",
              "    color_map_11ac80c6a584ad5411eb4a4424d7b1d3.x = d3.scale.linear()\n",
              "              .domain([15.0, 35.0])\n",
              "              .range([0, 450 - 50]);\n",
              "\n",
              "    color_map_11ac80c6a584ad5411eb4a4424d7b1d3.legend = L.control({position: &#x27;topright&#x27;});\n",
              "    color_map_11ac80c6a584ad5411eb4a4424d7b1d3.legend.onAdd = function (map) {var div = L.DomUtil.create(&#x27;div&#x27;, &#x27;legend&#x27;); return div};\n",
              "    color_map_11ac80c6a584ad5411eb4a4424d7b1d3.legend.addTo(map_a0d0d33a66e3101a4ca05f4b3fd3ab31);\n",
              "\n",
              "    color_map_11ac80c6a584ad5411eb4a4424d7b1d3.xAxis = d3.svg.axis()\n",
              "        .scale(color_map_11ac80c6a584ad5411eb4a4424d7b1d3.x)\n",
              "        .orient(&quot;top&quot;)\n",
              "        .tickSize(1)\n",
              "        .tickValues([15.0, 19.0, 23.0, 27.0, 31.0, 35.0]);\n",
              "\n",
              "    color_map_11ac80c6a584ad5411eb4a4424d7b1d3.svg = d3.select(&quot;.legend.leaflet-control&quot;).append(&quot;svg&quot;)\n",
              "        .attr(&quot;id&quot;, &#x27;legend&#x27;)\n",
              "        .attr(&quot;width&quot;, 450)\n",
              "        .attr(&quot;height&quot;, 40);\n",
              "\n",
              "    color_map_11ac80c6a584ad5411eb4a4424d7b1d3.g = color_map_11ac80c6a584ad5411eb4a4424d7b1d3.svg.append(&quot;g&quot;)\n",
              "        .attr(&quot;class&quot;, &quot;key&quot;)\n",
              "        .attr(&quot;transform&quot;, &quot;translate(25,16)&quot;);\n",
              "\n",
              "    color_map_11ac80c6a584ad5411eb4a4424d7b1d3.g.selectAll(&quot;rect&quot;)\n",
              "        .data(color_map_11ac80c6a584ad5411eb4a4424d7b1d3.color.range().map(function(d, i) {\n",
              "          return {\n",
              "            x0: i ? color_map_11ac80c6a584ad5411eb4a4424d7b1d3.x(color_map_11ac80c6a584ad5411eb4a4424d7b1d3.color.domain()[i - 1]) : color_map_11ac80c6a584ad5411eb4a4424d7b1d3.x.range()[0],\n",
              "            x1: i &lt; color_map_11ac80c6a584ad5411eb4a4424d7b1d3.color.domain().length ? color_map_11ac80c6a584ad5411eb4a4424d7b1d3.x(color_map_11ac80c6a584ad5411eb4a4424d7b1d3.color.domain()[i]) : color_map_11ac80c6a584ad5411eb4a4424d7b1d3.x.range()[1],\n",
              "            z: d\n",
              "          };\n",
              "        }))\n",
              "      .enter().append(&quot;rect&quot;)\n",
              "        .attr(&quot;height&quot;, 40 - 30)\n",
              "        .attr(&quot;x&quot;, function(d) { return d.x0; })\n",
              "        .attr(&quot;width&quot;, function(d) { return d.x1 - d.x0; })\n",
              "        .style(&quot;fill&quot;, function(d) { return d.z; });\n",
              "\n",
              "    color_map_11ac80c6a584ad5411eb4a4424d7b1d3.g.call(color_map_11ac80c6a584ad5411eb4a4424d7b1d3.xAxis).append(&quot;text&quot;)\n",
              "        .attr(&quot;class&quot;, &quot;caption&quot;)\n",
              "        .attr(&quot;y&quot;, 21)\n",
              "        .text(&quot;Temperature (\\u00b0C)&quot;);\n",
              "&lt;/script&gt;\n",
              "&lt;/html&gt;\" style=\"position:absolute;width:100%;height:100%;left:0;top:0;border:none !important;\" allowfullscreen webkitallowfullscreen mozallowfullscreen></iframe></div></div>"
            ]
          },
          "metadata": {},
          "execution_count": 65
        }
      ]
    },
    {
      "cell_type": "markdown",
      "source": [
        "## Erstellung der verschiedenen Strukturtypen"
      ],
      "metadata": {
        "id": "30G8oE-ZHS8a"
      }
    },
    {
      "cell_type": "code",
      "source": [
        "# Structure Type LST Maps\n",
        "image = ee.Image(\"JRC/GHSL/P2023A/GHS_BUILT_C/2018\")\n",
        "GHSL = image.select('built_characteristics')\n",
        "\n",
        "# Define masks for different structure types\n",
        "maskOpenSpace = GHSL.eq(1).Or(GHSL.eq(2)).Or(GHSL.eq(3)).Or(GHSL.eq(4))\n",
        "maskBuiltSpacesRes = GHSL.eq(11).Or(GHSL.eq(12)).Or(GHSL.eq(13)).Or(GHSL.eq(14)).Or(GHSL.eq(15))\n",
        "maskBuiltSpacesNonRes = GHSL.eq(5).Or(GHSL.eq(21)).Or(GHSL.eq(22)).Or(GHSL.eq(23)).Or(GHSL.eq(24)).Or(GHSL.eq(25))\n",
        "maskUrban = maskBuiltSpacesRes.Or(maskBuiltSpacesNonRes)\n",
        "\n",
        "# Apply masks to NDVI, emissivity, and LST calculations\n",
        "ndvi_open_space = ndvi.updateMask(maskOpenSpace)\n",
        "em_open_space = em.updateMask(maskOpenSpace)\n",
        "lst_open_space = lst_landsat_median.updateMask(maskOpenSpace)\n",
        "\n",
        "ndvi_built_res = ndvi.updateMask(maskBuiltSpacesRes)\n",
        "em_built_res = em.updateMask(maskBuiltSpacesRes)\n",
        "lst_built_res = lst_landsat_median.updateMask(maskBuiltSpacesRes)\n",
        "\n",
        "ndvi_built_non_res = ndvi.updateMask(maskBuiltSpacesNonRes)\n",
        "em_built_non_res = em.updateMask(maskBuiltSpacesNonRes)\n",
        "lst_built_non_res = lst_landsat_median.updateMask(maskBuiltSpacesNonRes)\n",
        "\n",
        "ndvi_urban = ndvi.updateMask(maskUrban)\n",
        "em_urban = em.updateMask(maskUrban)\n",
        "lst_urban = lst_landsat_median.updateMask(maskUrban)\n",
        "\n",
        "# Visualize the results\n",
        "map = folium.Map(location=[48.521637, 9.057645], zoom_start=12)\n",
        "\n",
        "map = add_ee_layer(map, lst_open_space, lst_vis, regionInt, 'LST_Open_Space')\n",
        "map = add_ee_layer(map, lst_built_res, lst_vis, regionInt, 'LST_Built_Res')\n",
        "map = add_ee_layer(map, lst_built_non_res, lst_vis, regionInt, 'LST_Built_Non_Res')\n",
        "map = add_ee_layer(map, lst_urban, lst_vis, regionInt, 'LST_Urban')\n",
        "\n",
        "# Add layer control\n",
        "folium.LayerControl().add_to(map)\n",
        "\n",
        "# Display the map\n",
        "map\n"
      ],
      "metadata": {
        "id": "SOu7z_bgdHA2",
        "colab": {
          "base_uri": "https://localhost:8080/",
          "height": 493
        },
        "outputId": "d6a08889-4d39-49c4-a159-94be2ffdcc25"
      },
      "execution_count": null,
      "outputs": [
        {
          "output_type": "display_data",
          "data": {
            "text/plain": [
              "<IPython.core.display.HTML object>"
            ],
            "text/html": [
              "\n",
              "            <style>\n",
              "                .geemap-dark {\n",
              "                    --jp-widgets-color: white;\n",
              "                    --jp-widgets-label-color: white;\n",
              "                    --jp-ui-font-color1: white;\n",
              "                    --jp-layout-color2: #454545;\n",
              "                    background-color: #383838;\n",
              "                }\n",
              "\n",
              "                .geemap-dark .jupyter-button {\n",
              "                    --jp-layout-color3: #383838;\n",
              "                }\n",
              "\n",
              "                .geemap-colab {\n",
              "                    background-color: var(--colab-primary-surface-color, white);\n",
              "                }\n",
              "\n",
              "                .geemap-colab .jupyter-button {\n",
              "                    --jp-layout-color3: var(--colab-primary-surface-color, white);\n",
              "                }\n",
              "            </style>\n",
              "            "
            ]
          },
          "metadata": {}
        },
        {
          "output_type": "execute_result",
          "data": {
            "text/plain": [
              "<folium.folium.Map at 0x7a1f367ef400>"
            ],
            "text/html": [
              "<div style=\"width:100%;\"><div style=\"position:relative;width:100%;height:0;padding-bottom:60%;\"><span style=\"color:#565656\">Make this Notebook Trusted to load map: File -> Trust Notebook</span><iframe srcdoc=\"&lt;!DOCTYPE html&gt;\n",
              "&lt;html&gt;\n",
              "&lt;head&gt;\n",
              "    \n",
              "    &lt;meta http-equiv=&quot;content-type&quot; content=&quot;text/html; charset=UTF-8&quot; /&gt;\n",
              "    \n",
              "        &lt;script&gt;\n",
              "            L_NO_TOUCH = false;\n",
              "            L_DISABLE_3D = false;\n",
              "        &lt;/script&gt;\n",
              "    \n",
              "    &lt;style&gt;html, body {width: 100%;height: 100%;margin: 0;padding: 0;}&lt;/style&gt;\n",
              "    &lt;style&gt;#map {position:absolute;top:0;bottom:0;right:0;left:0;}&lt;/style&gt;\n",
              "    &lt;script src=&quot;https://cdn.jsdelivr.net/npm/leaflet@1.9.3/dist/leaflet.js&quot;&gt;&lt;/script&gt;\n",
              "    &lt;script src=&quot;https://code.jquery.com/jquery-1.12.4.min.js&quot;&gt;&lt;/script&gt;\n",
              "    &lt;script src=&quot;https://cdn.jsdelivr.net/npm/bootstrap@5.2.2/dist/js/bootstrap.bundle.min.js&quot;&gt;&lt;/script&gt;\n",
              "    &lt;script src=&quot;https://cdnjs.cloudflare.com/ajax/libs/Leaflet.awesome-markers/2.0.2/leaflet.awesome-markers.js&quot;&gt;&lt;/script&gt;\n",
              "    &lt;link rel=&quot;stylesheet&quot; href=&quot;https://cdn.jsdelivr.net/npm/leaflet@1.9.3/dist/leaflet.css&quot;/&gt;\n",
              "    &lt;link rel=&quot;stylesheet&quot; href=&quot;https://cdn.jsdelivr.net/npm/bootstrap@5.2.2/dist/css/bootstrap.min.css&quot;/&gt;\n",
              "    &lt;link rel=&quot;stylesheet&quot; href=&quot;https://netdna.bootstrapcdn.com/bootstrap/3.0.0/css/bootstrap.min.css&quot;/&gt;\n",
              "    &lt;link rel=&quot;stylesheet&quot; href=&quot;https://cdn.jsdelivr.net/npm/@fortawesome/fontawesome-free@6.2.0/css/all.min.css&quot;/&gt;\n",
              "    &lt;link rel=&quot;stylesheet&quot; href=&quot;https://cdnjs.cloudflare.com/ajax/libs/Leaflet.awesome-markers/2.0.2/leaflet.awesome-markers.css&quot;/&gt;\n",
              "    &lt;link rel=&quot;stylesheet&quot; href=&quot;https://cdn.jsdelivr.net/gh/python-visualization/folium/folium/templates/leaflet.awesome.rotate.min.css&quot;/&gt;\n",
              "    \n",
              "            &lt;meta name=&quot;viewport&quot; content=&quot;width=device-width,\n",
              "                initial-scale=1.0, maximum-scale=1.0, user-scalable=no&quot; /&gt;\n",
              "            &lt;style&gt;\n",
              "                #map_21859786725a918c5de5e8c584d1304f {\n",
              "                    position: relative;\n",
              "                    width: 100.0%;\n",
              "                    height: 100.0%;\n",
              "                    left: 0.0%;\n",
              "                    top: 0.0%;\n",
              "                }\n",
              "                .leaflet-container { font-size: 1rem; }\n",
              "            &lt;/style&gt;\n",
              "        \n",
              "&lt;/head&gt;\n",
              "&lt;body&gt;\n",
              "    \n",
              "    \n",
              "            &lt;div class=&quot;folium-map&quot; id=&quot;map_21859786725a918c5de5e8c584d1304f&quot; &gt;&lt;/div&gt;\n",
              "        \n",
              "&lt;/body&gt;\n",
              "&lt;script&gt;\n",
              "    \n",
              "    \n",
              "            var map_21859786725a918c5de5e8c584d1304f = L.map(\n",
              "                &quot;map_21859786725a918c5de5e8c584d1304f&quot;,\n",
              "                {\n",
              "                    center: [48.521637, 9.057645],\n",
              "                    crs: L.CRS.EPSG3857,\n",
              "                    zoom: 12,\n",
              "                    zoomControl: true,\n",
              "                    preferCanvas: false,\n",
              "                }\n",
              "            );\n",
              "\n",
              "            \n",
              "\n",
              "        \n",
              "    \n",
              "            var tile_layer_7ea63ba10c9169b3a186d3f54e095e68 = L.tileLayer(\n",
              "                &quot;https://{s}.tile.openstreetmap.org/{z}/{x}/{y}.png&quot;,\n",
              "                {&quot;attribution&quot;: &quot;Data by \\u0026copy; \\u003ca target=\\&quot;_blank\\&quot; href=\\&quot;http://openstreetmap.org\\&quot;\\u003eOpenStreetMap\\u003c/a\\u003e, under \\u003ca target=\\&quot;_blank\\&quot; href=\\&quot;http://www.openstreetmap.org/copyright\\&quot;\\u003eODbL\\u003c/a\\u003e.&quot;, &quot;detectRetina&quot;: false, &quot;maxNativeZoom&quot;: 18, &quot;maxZoom&quot;: 18, &quot;minZoom&quot;: 0, &quot;noWrap&quot;: false, &quot;opacity&quot;: 1, &quot;subdomains&quot;: &quot;abc&quot;, &quot;tms&quot;: false}\n",
              "            ).addTo(map_21859786725a918c5de5e8c584d1304f);\n",
              "        \n",
              "    \n",
              "            var tile_layer_d97da8b7141192bc6bf15698a0634556 = L.tileLayer(\n",
              "                &quot;https://earthengine.googleapis.com/v1/projects/ee-dbeckmann/maps/62dc40cd620b2747574a1ecc625908c6-5650583e9b7e83f03d1adaeacd1b83db/tiles/{z}/{x}/{y}&quot;,\n",
              "                {&quot;attribution&quot;: &quot;LST_Open_Space&quot;, &quot;detectRetina&quot;: false, &quot;maxNativeZoom&quot;: 18, &quot;maxZoom&quot;: 18, &quot;minZoom&quot;: 0, &quot;noWrap&quot;: false, &quot;opacity&quot;: 1, &quot;subdomains&quot;: &quot;abc&quot;, &quot;tms&quot;: false}\n",
              "            ).addTo(map_21859786725a918c5de5e8c584d1304f);\n",
              "        \n",
              "    \n",
              "            var tile_layer_4a0425b961349e623fa366a99a5ec231 = L.tileLayer(\n",
              "                &quot;https://earthengine.googleapis.com/v1/projects/ee-dbeckmann/maps/6745b8d8967aa387ec13f595a3439075-789728ccfe6e60ffe8d6d262b2c732ac/tiles/{z}/{x}/{y}&quot;,\n",
              "                {&quot;attribution&quot;: &quot;LST_Built_Res&quot;, &quot;detectRetina&quot;: false, &quot;maxNativeZoom&quot;: 18, &quot;maxZoom&quot;: 18, &quot;minZoom&quot;: 0, &quot;noWrap&quot;: false, &quot;opacity&quot;: 1, &quot;subdomains&quot;: &quot;abc&quot;, &quot;tms&quot;: false}\n",
              "            ).addTo(map_21859786725a918c5de5e8c584d1304f);\n",
              "        \n",
              "    \n",
              "            var tile_layer_9c7287a447cb78f3ba0096e3fa95e320 = L.tileLayer(\n",
              "                &quot;https://earthengine.googleapis.com/v1/projects/ee-dbeckmann/maps/2c4ae6502590ce08541e0642952e5c0a-85f258ce2f530d36610b1638a9e5f647/tiles/{z}/{x}/{y}&quot;,\n",
              "                {&quot;attribution&quot;: &quot;LST_Built_Non_Res&quot;, &quot;detectRetina&quot;: false, &quot;maxNativeZoom&quot;: 18, &quot;maxZoom&quot;: 18, &quot;minZoom&quot;: 0, &quot;noWrap&quot;: false, &quot;opacity&quot;: 1, &quot;subdomains&quot;: &quot;abc&quot;, &quot;tms&quot;: false}\n",
              "            ).addTo(map_21859786725a918c5de5e8c584d1304f);\n",
              "        \n",
              "    \n",
              "            var tile_layer_055bf96d468a6f57626341b8098bc646 = L.tileLayer(\n",
              "                &quot;https://earthengine.googleapis.com/v1/projects/ee-dbeckmann/maps/35f667631da7217cba07753f00870006-82a8c88343d6664ff5032515eac48a73/tiles/{z}/{x}/{y}&quot;,\n",
              "                {&quot;attribution&quot;: &quot;LST_Urban&quot;, &quot;detectRetina&quot;: false, &quot;maxNativeZoom&quot;: 18, &quot;maxZoom&quot;: 18, &quot;minZoom&quot;: 0, &quot;noWrap&quot;: false, &quot;opacity&quot;: 1, &quot;subdomains&quot;: &quot;abc&quot;, &quot;tms&quot;: false}\n",
              "            ).addTo(map_21859786725a918c5de5e8c584d1304f);\n",
              "        \n",
              "    \n",
              "            var layer_control_7a0583945897463f53810e7121555761 = {\n",
              "                base_layers : {\n",
              "                    &quot;openstreetmap&quot; : tile_layer_7ea63ba10c9169b3a186d3f54e095e68,\n",
              "                },\n",
              "                overlays :  {\n",
              "                    &quot;LST_Open_Space&quot; : tile_layer_d97da8b7141192bc6bf15698a0634556,\n",
              "                    &quot;LST_Built_Res&quot; : tile_layer_4a0425b961349e623fa366a99a5ec231,\n",
              "                    &quot;LST_Built_Non_Res&quot; : tile_layer_9c7287a447cb78f3ba0096e3fa95e320,\n",
              "                    &quot;LST_Urban&quot; : tile_layer_055bf96d468a6f57626341b8098bc646,\n",
              "                },\n",
              "            };\n",
              "            L.control.layers(\n",
              "                layer_control_7a0583945897463f53810e7121555761.base_layers,\n",
              "                layer_control_7a0583945897463f53810e7121555761.overlays,\n",
              "                {&quot;autoZIndex&quot;: true, &quot;collapsed&quot;: true, &quot;position&quot;: &quot;topright&quot;}\n",
              "            ).addTo(map_21859786725a918c5de5e8c584d1304f);\n",
              "        \n",
              "&lt;/script&gt;\n",
              "&lt;/html&gt;\" style=\"position:absolute;width:100%;height:100%;left:0;top:0;border:none !important;\" allowfullscreen webkitallowfullscreen mozallowfullscreen></iframe></div></div>"
            ]
          },
          "metadata": {},
          "execution_count": 66
        }
      ]
    },
    {
      "cell_type": "markdown",
      "source": [
        "## Median LST der Strukturtypen\n",
        "\n"
      ],
      "metadata": {
        "id": "l_20WHqIHAHd"
      }
    },
    {
      "cell_type": "code",
      "source": [
        "# Calculate median temperature for each structure type\n",
        "median_lst_open_space = lst_open_space.reduceRegion(reducer=ee.Reducer.median(), geometry=regionInt, scale=30, maxPixels=1e9).get('B10')\n",
        "median_lst_built_res = lst_built_res.reduceRegion(reducer=ee.Reducer.median(), geometry=regionInt, scale=30, maxPixels=1e9).get('B10')\n",
        "median_lst_built_non_res = lst_built_non_res.reduceRegion(reducer=ee.Reducer.median(), geometry=regionInt, scale=30, maxPixels=1e9).get('B10')\n",
        "median_lst_urban = lst_urban.reduceRegion(reducer=ee.Reducer.median(), geometry=regionInt, scale=30, maxPixels=1e9).get('B10')\n",
        "\n",
        "# Convert median temperatures from Earth Engine objects to Python variables\n",
        "median_lst_open_space = median_lst_open_space.getInfo()\n",
        "median_lst_built_res = median_lst_built_res.getInfo()\n",
        "median_lst_built_non_res = median_lst_built_non_res.getInfo()\n",
        "median_lst_urban = median_lst_urban.getInfo()\n",
        "\n",
        "# Define structure types and their median temperatures\n",
        "structure_types = ['Open Space', 'Built Residential', 'Built Non-Residential', 'Urban']\n",
        "median_temperatures = [median_lst_open_space, median_lst_built_res, median_lst_built_non_res, median_lst_urban]\n",
        "\n",
        "# Create a bar plot\n",
        "plt.figure(figsize=(10, 6))\n",
        "bars = plt.bar(structure_types, median_temperatures, color='skyblue', width=0.5)\n",
        "\n",
        "# Add data labels to the bars\n",
        "for bar, temp in zip(bars, median_temperatures):\n",
        "    plt.text(bar.get_x() + bar.get_width() / 2, bar.get_height() + 0.5, f'{temp:.2f}°C', ha='center', va='bottom')\n",
        "\n",
        "# Add labels and title\n",
        "plt.xlabel('Structure Type')\n",
        "plt.ylabel('Median Temperature (°C)')\n",
        "plt.title('Median Temperature for Different Structure Types')\n",
        "\n",
        "# Customize the plot\n",
        "plt.ylim(0, 40)\n",
        "plt.grid(axis='y', linestyle='--', alpha=0.7)\n",
        "plt.xticks(rotation=45, ha='right')\n",
        "plt.tight_layout()\n",
        "\n",
        "\n",
        "# Show plot\n",
        "plt.show()\n"
      ],
      "metadata": {
        "id": "zolWPT4Fom0p",
        "colab": {
          "base_uri": "https://localhost:8080/",
          "height": 490
        },
        "outputId": "b280b6a7-bf2b-4c4f-ce95-6d7018ff7f11"
      },
      "execution_count": null,
      "outputs": [
        {
          "output_type": "display_data",
          "data": {
            "text/plain": [
              "<IPython.core.display.HTML object>"
            ],
            "text/html": [
              "\n",
              "            <style>\n",
              "                .geemap-dark {\n",
              "                    --jp-widgets-color: white;\n",
              "                    --jp-widgets-label-color: white;\n",
              "                    --jp-ui-font-color1: white;\n",
              "                    --jp-layout-color2: #454545;\n",
              "                    background-color: #383838;\n",
              "                }\n",
              "\n",
              "                .geemap-dark .jupyter-button {\n",
              "                    --jp-layout-color3: #383838;\n",
              "                }\n",
              "\n",
              "                .geemap-colab {\n",
              "                    background-color: var(--colab-primary-surface-color, white);\n",
              "                }\n",
              "\n",
              "                .geemap-colab .jupyter-button {\n",
              "                    --jp-layout-color3: var(--colab-primary-surface-color, white);\n",
              "                }\n",
              "            </style>\n",
              "            "
            ]
          },
          "metadata": {}
        },
        {
          "output_type": "display_data",
          "data": {
            "text/plain": [
              "<Figure size 1000x600 with 1 Axes>"
            ],
            "image/png": "[encoded data removed]"
          },
          "metadata": {}
        }
      ]
    },
    {
      "cell_type": "markdown",
      "source": [
        "## Fläche der einzelnen Strukturtypen"
      ],
      "metadata": {
        "id": "CcZeFiYtHJff"
      }
    },
    {
      "cell_type": "code",
      "source": [
        "def calculate_area(image):\n",
        "    # Multiply the image by pixel area to get the area in square meters\n",
        "    area_image = image.multiply(ee.Image.pixelArea())\n",
        "\n",
        "    # Reduce the area image within the specified region\n",
        "    area_stats = area_image.reduceRegion(reducer=ee.Reducer.sum(), geometry=regionInt.geometry(), scale=10)\n",
        "\n",
        "    # Get the sum of the area\n",
        "    area_sqm = area_stats.get('built_characteristics')\n",
        "\n",
        "    # Convert to square kilometers\n",
        "    area_sqkm = ee.Number(area_sqm).divide(1e6).getInfo()\n",
        "\n",
        "    return area_sqkm\n",
        "\n",
        "# Calculate areas for each structure type\n",
        "urban_area_sqkm = calculate_area(maskUrban)\n",
        "openSpaces_area_sqkm = calculate_area(maskOpenSpace)\n",
        "builtSpacesRes_area_sqkm = calculate_area(maskBuiltSpacesRes)\n",
        "builtSpacesNonRes_area_sqkm = calculate_area(maskBuiltSpacesNonRes)\n",
        "\n",
        "# Print the results\n",
        "print('Urban Structures (km²):', urban_area_sqkm)\n",
        "print('Open Spaces (km²):', openSpaces_area_sqkm)\n",
        "print('Built Spaces Residential (km²):', builtSpacesRes_area_sqkm)\n",
        "print('Built Spaces Non-Residential (km²):', builtSpacesNonRes_area_sqkm)\n",
        "\n",
        "\n",
        "# Define structure types and their areas\n",
        "structure_types = ['Urban Structures', 'Open Spaces', 'Built Spaces Residential', 'Built Spaces Non-Residential']\n",
        "areas_sqkm = [urban_area_sqkm, openSpaces_area_sqkm, builtSpacesRes_area_sqkm, builtSpacesNonRes_area_sqkm]\n",
        "\n",
        "# Sort structure types and areas_sqkm based on areas_sqkm\n",
        "structure_types_sorted, areas_sqkm_sorted = zip(*sorted(zip(structure_types, areas_sqkm), key=lambda x: x[1], reverse=True))\n",
        "\n",
        "# Create a bar plot\n",
        "plt.figure(figsize=(10, 6))\n",
        "bars = plt.bar(structure_types_sorted, areas_sqkm_sorted, color='skyblue')\n",
        "\n",
        "# Add data labels to the bars\n",
        "for bar, area in zip(bars, areas_sqkm_sorted):\n",
        "    plt.text(bar.get_x() + bar.get_width() / 2, bar.get_height() + 0.5, f'{area:.2f} km²', ha='center', va='bottom')\n",
        "\n",
        "# Add labels and title\n",
        "plt.xlabel('Structure Type')\n",
        "plt.ylabel('Area (km²)')\n",
        "plt.title('Area of Different Structure Types')\n",
        "\n",
        "# Customize the plot\n",
        "plt.grid(axis='y', linestyle='--', alpha=0.7)\n",
        "plt.xticks(rotation=45, ha='right')\n",
        "plt.tight_layout()\n",
        "\n",
        "# Show plot\n",
        "plt.show()\n"
      ],
      "metadata": {
        "id": "xA1V_yLKuuuU",
        "colab": {
          "base_uri": "https://localhost:8080/",
          "height": 559
        },
        "outputId": "0ccd5378-88f5-4eb4-9488-47a655dda643"
      },
      "execution_count": null,
      "outputs": [
        {
          "output_type": "display_data",
          "data": {
            "text/plain": [
              "<IPython.core.display.HTML object>"
            ],
            "text/html": [
              "\n",
              "            <style>\n",
              "                .geemap-dark {\n",
              "                    --jp-widgets-color: white;\n",
              "                    --jp-widgets-label-color: white;\n",
              "                    --jp-ui-font-color1: white;\n",
              "                    --jp-layout-color2: #454545;\n",
              "                    background-color: #383838;\n",
              "                }\n",
              "\n",
              "                .geemap-dark .jupyter-button {\n",
              "                    --jp-layout-color3: #383838;\n",
              "                }\n",
              "\n",
              "                .geemap-colab {\n",
              "                    background-color: var(--colab-primary-surface-color, white);\n",
              "                }\n",
              "\n",
              "                .geemap-colab .jupyter-button {\n",
              "                    --jp-layout-color3: var(--colab-primary-surface-color, white);\n",
              "                }\n",
              "            </style>\n",
              "            "
            ]
          },
          "metadata": {}
        },
        {
          "output_type": "stream",
          "name": "stdout",
          "text": [
            "Urban Structures (km²): 8.620380186558803\n",
            "Open Spaces (km²): 8.910002205887947\n",
            "Built Spaces Residential (km²): 6.7967076006404525\n",
            "Built Spaces Non-Residential (km²): 1.8236725859183516\n"
          ]
        },
        {
          "output_type": "display_data",
          "data": {
            "text/plain": [
              "<Figure size 1000x600 with 1 Axes>"
            ],
            "image/png": "[encoded data removed]"
          },
          "metadata": {}
        }
      ]
    },
    {
      "cell_type": "markdown",
      "source": [
        "## Erstellen eine Datenrahmes mit LST Wert und Datum von den Bildern im Zeitraum"
      ],
      "metadata": {
        "id": "4bKLLcjgD56r"
      }
    },
    {
      "cell_type": "code",
      "source": [
        "# Function to calculate LST from NDVI, emissivity, and brightness temperature\n",
        "def calculate_lst(img):\n",
        "    # Calculate NDVI\n",
        "    ndvi = img.normalizedDifference(['B5', 'B4']).rename('NDVI')\n",
        "\n",
        "    # Find the minimum and maximum of NDVI\n",
        "    min_max = ndvi.reduceRegion(\n",
        "        reducer=ee.Reducer.minMax(),\n",
        "        geometry=regionInt,\n",
        "        scale=30,\n",
        "        maxPixels=1e9\n",
        "    )\n",
        "\n",
        "    # Calculate fractional vegetation\n",
        "    min_val = ee.Number(min_max.get('NDVI_min'))\n",
        "    max_val = ee.Number(min_max.get('NDVI_max'))\n",
        "    fv = ndvi.subtract(min_val).divide(max_val.subtract(min_val)).rename('FV')\n",
        "\n",
        "    # Emissivity calculations\n",
        "    a = ee.Number(0.004)\n",
        "    b = ee.Number(0.986)\n",
        "    em = fv.multiply(a).add(b).rename('EMM')\n",
        "\n",
        "    # Calculate LST using emissivity and brightness temperature\n",
        "    tb = img.select('B10')\n",
        "    lst = tb.expression(\n",
        "        '(Tb / (1 + (0.001145 * (Tb / 1.438)) * log(Em))) - 273.15',\n",
        "        {\n",
        "            'Tb': tb,\n",
        "            'Em': em\n",
        "        }\n",
        "    ).rename('LST')\n",
        "\n",
        "    return lst\n",
        "\n",
        "# Iterate over the used dates\n",
        "for date in formatted_dates:\n",
        "    # Filter the collection for the current date\n",
        "    col_filtered = col_after.filterDate(date)\n",
        "\n",
        "    # Apply the function to calculate LST for each image in the filtered collection\n",
        "    col_lst_filtered = col_filtered.map(calculate_lst)\n",
        "\n",
        "    # Generate a median composite of the LST images from the filtered collection\n",
        "    median_lst_filtered = col_lst_filtered.median()\n",
        "\n",
        "    # Add the median LST composite to the map with a name indicating the date\n",
        "    map.add_ee_layer(median_lst_filtered, lst_vis, regionInt, f'Median LST ({date})')\n",
        "\n",
        "# Display the map\n",
        "display(map)"
      ],
      "metadata": {
        "colab": {
          "base_uri": "https://localhost:8080/",
          "height": 211
        },
        "id": "QYeRo34PFmib",
        "outputId": "81b6c6ef-aacb-44e8-8d36-662ef6fb2ea9"
      },
      "execution_count": 12,
      "outputs": [
        {
          "output_type": "display_data",
          "data": {
            "text/plain": [
              "<IPython.core.display.HTML object>"
            ],
            "text/html": [
              "\n",
              "            <style>\n",
              "                .geemap-dark {\n",
              "                    --jp-widgets-color: white;\n",
              "                    --jp-widgets-label-color: white;\n",
              "                    --jp-ui-font-color1: white;\n",
              "                    --jp-layout-color2: #454545;\n",
              "                    background-color: #383838;\n",
              "                }\n",
              "\n",
              "                .geemap-dark .jupyter-button {\n",
              "                    --jp-layout-color3: #383838;\n",
              "                }\n",
              "\n",
              "                .geemap-colab {\n",
              "                    background-color: var(--colab-primary-surface-color, white);\n",
              "                }\n",
              "\n",
              "                .geemap-colab .jupyter-button {\n",
              "                    --jp-layout-color3: var(--colab-primary-surface-color, white);\n",
              "                }\n",
              "            </style>\n",
              "            "
            ]
          },
          "metadata": {}
        },
        {
          "output_type": "error",
          "ename": "NameError",
          "evalue": "name 'formatted_dates' is not defined",
          "traceback": [
            "\u001b[0;31m---------------------------------------------------------------------------\u001b[0m",
            "\u001b[0;31mNameError\u001b[0m                                 Traceback (most recent call last)",
            "\u001b[0;32m<ipython-input-12-8da33ece85a3>\u001b[0m in \u001b[0;36m<cell line: 37>\u001b[0;34m()\u001b[0m\n\u001b[1;32m     35\u001b[0m \u001b[0;34m\u001b[0m\u001b[0m\n\u001b[1;32m     36\u001b[0m \u001b[0;31m# Iterate over the used dates\u001b[0m\u001b[0;34m\u001b[0m\u001b[0;34m\u001b[0m\u001b[0m\n\u001b[0;32m---> 37\u001b[0;31m \u001b[0;32mfor\u001b[0m \u001b[0mdate\u001b[0m \u001b[0;32min\u001b[0m \u001b[0mformatted_dates\u001b[0m\u001b[0;34m:\u001b[0m\u001b[0;34m\u001b[0m\u001b[0;34m\u001b[0m\u001b[0m\n\u001b[0m\u001b[1;32m     38\u001b[0m     \u001b[0;31m# Filter the collection for the current date\u001b[0m\u001b[0;34m\u001b[0m\u001b[0;34m\u001b[0m\u001b[0m\n\u001b[1;32m     39\u001b[0m     \u001b[0mcol_filtered\u001b[0m \u001b[0;34m=\u001b[0m \u001b[0mcol_after\u001b[0m\u001b[0;34m.\u001b[0m\u001b[0mfilterDate\u001b[0m\u001b[0;34m(\u001b[0m\u001b[0mdate\u001b[0m\u001b[0;34m)\u001b[0m\u001b[0;34m\u001b[0m\u001b[0;34m\u001b[0m\u001b[0m\n",
            "\u001b[0;31mNameError\u001b[0m: name 'formatted_dates' is not defined"
          ]
        }
      ]
    },
    {
      "cell_type": "markdown",
      "source": [
        "# Temporale Statistiken"
      ],
      "metadata": {
        "id": "Dn93TIyqG2jY"
      }
    },
    {
      "cell_type": "markdown",
      "source": [
        "## Import Packages"
      ],
      "metadata": {
        "id": "Kne55xNJmyAp"
      }
    },
    {
      "cell_type": "code",
      "source": [
        "# Import packages\n",
        "import pandas as pd\n",
        "import os\n",
        "import numpy as np\n",
        "import plotly.graph_objects as go\n",
        "from scipy.stats import linregress\n",
        "from matplotlib.dates import YearLocator\n"
      ],
      "metadata": {
        "id": "UJ25priimYvO",
        "colab": {
          "base_uri": "https://localhost:8080/",
          "height": 17
        },
        "outputId": "e38e9f48-7112-4087-8ebd-dd9f8bac7d5d"
      },
      "execution_count": 14,
      "outputs": [
        {
          "output_type": "display_data",
          "data": {
            "text/plain": [
              "<IPython.core.display.HTML object>"
            ],
            "text/html": [
              "\n",
              "            <style>\n",
              "                .geemap-dark {\n",
              "                    --jp-widgets-color: white;\n",
              "                    --jp-widgets-label-color: white;\n",
              "                    --jp-ui-font-color1: white;\n",
              "                    --jp-layout-color2: #454545;\n",
              "                    background-color: #383838;\n",
              "                }\n",
              "\n",
              "                .geemap-dark .jupyter-button {\n",
              "                    --jp-layout-color3: #383838;\n",
              "                }\n",
              "\n",
              "                .geemap-colab {\n",
              "                    background-color: var(--colab-primary-surface-color, white);\n",
              "                }\n",
              "\n",
              "                .geemap-colab .jupyter-button {\n",
              "                    --jp-layout-color3: var(--colab-primary-surface-color, white);\n",
              "                }\n",
              "            </style>\n",
              "            "
            ]
          },
          "metadata": {}
        }
      ]
    },
    {
      "cell_type": "markdown",
      "source": [
        "## Pandas Zeitreihe"
      ],
      "metadata": {
        "id": "fz2gRr3-mLVY"
      }
    },
    {
      "cell_type": "markdown",
      "source": [
        "### Einzelne Zeitreihenanalyse"
      ],
      "metadata": {
        "id": "O2nyiif8m-Ii"
      }
    },
    {
      "cell_type": "code",
      "source": [
        "# Mount Google Drive\n",
        "from google.colab import drive\n",
        "drive.mount('/content/drive')\n",
        "\n",
        "# Define the directory where the CSV files are located\n",
        "directory = \"/content/drive/MyDrive/Data/LST\"\n",
        "\n",
        "# Iterate over each file in the directory\n",
        "for file_name in os.listdir(directory):\n",
        "    if file_name.endswith(\".csv\"):  # Check if the file is a CSV file\n",
        "        # Read the CSV file\n",
        "        file_path = os.path.join(directory, file_name)\n",
        "        df = pd.read_csv(file_path)\n",
        "\n",
        "        # Change column header\n",
        "        df = df.rename(columns={'system:time_start': 'Date'})\n",
        "\n",
        "        # Filter out rows with negative values in the 'LST' column\n",
        "        df = df[df['LST'] >= 0]\n",
        "\n",
        "        # Set 'Date' column as index\n",
        "        df['Date'] = pd.to_datetime(df['Date'])\n",
        "        df.set_index('Date', inplace=True)\n",
        "\n",
        "        # Split filename by underscores and take the last part\n",
        "        file_name_parts = file_name.split('_')\n",
        "        last_part = file_name_parts[-1].replace('.csv', '')\n",
        "\n",
        "        # Plot the time series with trendline\n",
        "        plt.figure(figsize=(12, 8))\n",
        "        plt.plot(df.index, df['LST'], color='skyblue', linestyle='-', linewidth=2, label='LST Data')\n",
        "        plt.title(f'Zeitreihe der Oberflächentemperatur in {last_part}', fontsize=16)\n",
        "        plt.xlabel('Date', fontsize=14)\n",
        "        plt.ylabel('Temperature (°C)', fontsize=14)\n",
        "        plt.xticks(fontsize=12, rotation=45)\n",
        "        plt.yticks(fontsize=12)\n",
        "        plt.grid(True, alpha=0.3)\n",
        "\n",
        "        # Perform linear regression\n",
        "        x = np.arange(len(df))\n",
        "        slope, intercept, _, _, _ = linregress(x, df['LST'])\n",
        "\n",
        "        # Plot the trendline\n",
        "        plt.plot(df.index, slope*x + intercept, color='red', linestyle='--', linewidth=2, label='Trendline')\n",
        "\n",
        "        plt.legend(fontsize=12)\n",
        "\n",
        "        # Add year locator to x-axis\n",
        "        plt.gca().xaxis.set_major_locator(YearLocator())\n",
        "        plt.tight_layout()\n",
        "        plt.show()\n"
      ],
      "metadata": {
        "id": "t9D9vxhPaShu"
      },
      "execution_count": null,
      "outputs": []
    },
    {
      "cell_type": "code",
      "source": [
        "import pandas as pd\n",
        "import os\n",
        "import matplotlib.pyplot as plt\n",
        "from scipy.stats import linregress\n",
        "from matplotlib.dates import YearLocator\n",
        "\n",
        "# Mount Google Drive\n",
        "from google.colab import drive\n",
        "drive.mount('/content/drive')\n",
        "\n",
        "# Define the directory where the CSV files are located\n",
        "directory = \"/content/drive/MyDrive/Data\"\n",
        "\n",
        "# Iterate over each file in the directory\n",
        "for file_name in os.listdir(directory):\n",
        "    if file_name.endswith(\".csv\"):  # Check if the file is a CSV file\n",
        "        # Read the CSV file\n",
        "        file_path = os.path.join(directory, file_name)\n",
        "        df = pd.read_csv(file_path)\n",
        "\n",
        "        # Change column header\n",
        "        df = df.rename(columns={'system:time_start': 'Date'})\n",
        "\n",
        "        # Filter out rows with negative values in the 'LST' column\n",
        "        df = df[df['LST'] >= 0]\n",
        "\n",
        "        # Set 'Date' column as index\n",
        "        df['Date'] = pd.to_datetime(df['Date'])\n",
        "\n",
        "        # Calculate the mean temperature for each year\n",
        "        df['Year'] = df['Date'].dt.year\n",
        "        mean_temperature_by_year = df.groupby('Year')['LST'].mean()\n",
        "\n",
        "        # Split filename by underscores and take the last part\n",
        "        file_name_parts = file_name.split('_')\n",
        "        last_part = file_name_parts[-1].replace('.csv', '')\n",
        "\n",
        "        # Calculate linear regression\n",
        "        slope, intercept, _, _, _ = linregress(mean_temperature_by_year.index, mean_temperature_by_year.values)\n",
        "\n",
        "        # Plot the mean temperature for every year with a trendline\n",
        "        plt.figure(figsize=(12, 6))\n",
        "        plt.plot(mean_temperature_by_year.index, mean_temperature_by_year.values, linestyle='-', color='skyblue', label='Mean Temperature')\n",
        "        plt.plot(mean_temperature_by_year.index, slope * mean_temperature_by_year.index + intercept, linestyle='--', color='red', label='Trendline')\n",
        "        plt.title(f'Mean Temperature per Year with Trendline - {last_part}', fontsize=16)\n",
        "        plt.xlabel('Year', fontsize=14)\n",
        "        plt.ylabel('Mean Temperature', fontsize=14)\n",
        "        plt.xticks(mean_temperature_by_year.index, fontsize=12, rotation=45)  #\n",
        "        plt.yticks(fontsize=12)\n",
        "        plt.grid(True, alpha=0.3)\n",
        "        plt.legend(fontsize=12)\n",
        "\n",
        "        plt.tight_layout()\n",
        "        plt.show()\n"
      ],
      "metadata": {
        "id": "mXv6xAmNNLnq"
      },
      "execution_count": null,
      "outputs": []
    },
    {
      "cell_type": "markdown",
      "source": [
        "### Vergleichende Zeitreihenanalyse"
      ],
      "metadata": {
        "id": "LqYdL7CxnSjV"
      }
    },
    {
      "cell_type": "code",
      "source": [
        "from matplotlib.dates import YearLocator\n",
        "\n",
        "def process_and_plot_dataframes(file_paths):\n",
        "    \"\"\"\n",
        "    Read in CSV files, rename a column, set index,\n",
        "    and drop rows with negative values in a specific column for each DataFrame.\n",
        "    Align the DataFrames based on the date index.\n",
        "    Plot multiple time series in one plot with trendlines.\n",
        "\n",
        "    Args:\n",
        "    - file_paths (list of str): List of file paths to the CSV files\n",
        "    \"\"\"\n",
        "    plt.figure(figsize=(12, 8))\n",
        "\n",
        "    # Dictionary to store processed DataFrames\n",
        "    processed_dfs = {}\n",
        "\n",
        "    for file_path in file_paths:\n",
        "        # Extract filename without directory path and extension\n",
        "        file_name = os.path.splitext(os.path.basename(file_path))[0]\n",
        "        last_part = file_name.split('_')[-1]\n",
        "\n",
        "        if last_part not in processed_dfs:  # Check if filename already exists in dictionary\n",
        "            # Read the CSV file\n",
        "            df = pd.read_csv(file_path)\n",
        "\n",
        "            # Change column header\n",
        "            df = df.rename(columns={'system:time_start': 'Date'})\n",
        "\n",
        "            # Set 'Date' column as index\n",
        "            df['Date'] = pd.to_datetime(df['Date'])\n",
        "            df.set_index('Date', inplace=True)\n",
        "\n",
        "            # Drop rows containing negative values in the 'LST' column\n",
        "            df = df[df['LST'] >= 0]\n",
        "\n",
        "            # Remove duplicate rows\n",
        "            df = df[~df.index.duplicated()]\n",
        "\n",
        "            # Store processed DataFrame in the dictionary\n",
        "            processed_dfs[last_part] = df\n",
        "\n",
        "    # Perform outer join on date index to align DataFrames\n",
        "    aligned_df = pd.concat(processed_dfs.values(), axis=1, join='outer')\n",
        "\n",
        "    # Drop rows containing NaN values after aligning\n",
        "    aligned_df.dropna(inplace=True)\n",
        "\n",
        "    # Plot time series\n",
        "    for filename, df in processed_dfs.items():\n",
        "        plt.plot(df.index, df['LST'], label=filename)\n",
        "\n",
        "    # Add plot labels and legend\n",
        "    plt.title('Time Series of LST (Land Surface Temperature)', fontsize=16)\n",
        "    plt.xlabel('Date', fontsize=14)\n",
        "    plt.ylabel('LST', fontsize=14)\n",
        "    plt.xticks(fontsize=12, rotation=45)\n",
        "    plt.yticks(fontsize=12)\n",
        "    plt.grid(True, alpha=0.3)\n",
        "    plt.legend(fontsize=12)\n",
        "    plt.gca().xaxis.set_major_locator(YearLocator())  # Show only the years on the x-axis\n",
        "    plt.tight_layout()\n",
        "    plt.show()\n",
        "\n",
        "# Example usage:\n",
        "file_paths = [\"LST_Time_Series_Esslingen.csv\", \"LST_Time_Series_Stuttgart.csv\"]\n",
        "process_and_plot_dataframes(file_paths)\n"
      ],
      "metadata": {
        "id": "OMEN8jJJIgkM"
      },
      "execution_count": null,
      "outputs": []
    },
    {
      "cell_type": "markdown",
      "source": [
        "## Plotly Zeitreihe"
      ],
      "metadata": {
        "id": "WuQlDzsIGW8K"
      }
    },
    {
      "cell_type": "code",
      "source": [
        "# Change directory to where your CSV file is located\n",
        "os.chdir(\"/content/drive/MyDrive/Data/LST\")\n",
        "\n",
        "# First DF\n",
        "file_path = \"LST_Time_Series_Esslingen.csv\"\n",
        "df = pd.read_csv(file_path)\n",
        "\n",
        "# Change column header\n",
        "df = df.rename(columns={'system:time_start': 'Date'})\n",
        "df_drop = df.dropna()\n",
        "\n",
        "# Set 'Date' column as index for df_drop\n",
        "df_drop.set_index('Date', inplace=True)\n",
        "\n",
        "# Drop rows containing negative values in the 'LST' column\n",
        "df_new = df_drop[df_drop['LST'] >= 0]\n",
        "\n",
        "# Extract filename without directory path and extension\n",
        "file_name = os.path.splitext(os.path.basename(file_path))[0]\n",
        "\n",
        "# Split filename by underscores and take the last part\n",
        "file_name_parts = file_name.split('_')\n",
        "last_part = file_name_parts[-1]\n",
        "\n",
        "# Create trace for LST data\n",
        "trace_lst = go.Scatter(x=df_new.index, y=df_new['LST'], mode='lines', name='LST Data', line=dict(color='skyblue'))\n",
        "\n",
        "# Perform linear regression\n",
        "x = np.arange(len(df_new))\n",
        "m, b = np.polyfit(x, df_new['LST'], 1)\n",
        "\n",
        "# Calculate trendline\n",
        "trendline = m * x + b\n",
        "\n",
        "# Create trace for trendline\n",
        "trace_trendline = go.Scatter(x=df_new.index, y=trendline, mode='lines', name='Trendline', line=dict(color='red', dash='dash'))\n",
        "\n",
        "# Create layout\n",
        "layout = go.Layout(title=f'Zeitreihe der Oberflächentemperatur von 2000-2023 in {last_part}',\n",
        "                   xaxis=dict(title='Datum'),\n",
        "                   yaxis=dict(title='Temperatur in °C'),\n",
        "                   legend=dict(font=dict(size=12)))\n",
        "\n",
        "# Create figure\n",
        "fig = go.Figure(data=[trace_lst, trace_trendline], layout=layout)\n",
        "\n",
        "# Show plot\n",
        "fig.show()\n"
      ],
      "metadata": {
        "id": "0GDyrJ9yF28S"
      },
      "execution_count": null,
      "outputs": []
    },
    {
      "cell_type": "markdown",
      "source": [
        "### Einzelne Zeitreihenanalyse"
      ],
      "metadata": {
        "id": "bjFnibUxGd6x"
      }
    },
    {
      "cell_type": "code",
      "source": [
        "import pandas as pd\n",
        "import os\n",
        "import numpy as np\n",
        "import plotly.graph_objs as go\n",
        "from scipy.stats import linregress\n",
        "\n",
        "# Mount Google Drive\n",
        "from google.colab import drive\n",
        "drive.mount('/content/drive')\n",
        "\n",
        "# Define the directory where the CSV files are located\n",
        "directory = \"/content/drive/MyDrive/Data/LST\"\n",
        "\n",
        "# Iterate over each file in the directory\n",
        "for file_name in os.listdir(directory):\n",
        "    if file_name.endswith(\".csv\"):  # Check if the file is a CSV file\n",
        "        # Read the CSV file\n",
        "        file_path = os.path.join(directory, file_name)\n",
        "        df = pd.read_csv(file_path)\n",
        "\n",
        "        # Change column header\n",
        "        df = df.rename(columns={'system:time_start': 'Date'})\n",
        "\n",
        "        # Drop rows containing negative values in the 'LST' column\n",
        "        df = df[df['LST'] >= 0]\n",
        "\n",
        "        # Set 'Date' column as index\n",
        "        df['Date'] = pd.to_datetime(df['Date'])\n",
        "        df.set_index('Date', inplace=True)\n",
        "\n",
        "        # Extract filename without directory path and extension\n",
        "        file_name = os.path.splitext(os.path.basename(file_path))[0]\n",
        "\n",
        "        # Split filename by underscores and take the last part\n",
        "        file_name_parts = file_name.split('_')\n",
        "        last_part = file_name_parts[-1].replace('.csv', '')\n",
        "\n",
        "        # Perform linear regression\n",
        "        x = np.arange(len(df))\n",
        "        m, b = np.polyfit(x, df['LST'], 1)\n",
        "\n",
        "        # Calculate trendline\n",
        "        trendline = m * x + b\n",
        "\n",
        "        # Create trace for LST data\n",
        "        trace_lst = go.Scatter(x=df.index, y=df['LST'], mode='lines', name='LST Data', line=dict(color='skyblue'))\n",
        "\n",
        "        # Create trace for trendline\n",
        "        trace_trendline = go.Scatter(x=df.index, y=trendline, mode='lines', name='Trendline', line=dict(color='red', dash='dash'))\n",
        "\n",
        "        # Create layout\n",
        "        layout = go.Layout(title=f'Zeitreihe der Oberflächentemperatur in {last_part}',\n",
        "                           xaxis=dict(title='Datum'),\n",
        "                           yaxis=dict(title='Temperatur in °C'),\n",
        "                           legend=dict(font=dict(size=12)))\n",
        "\n",
        "        # Create figure\n",
        "        fig = go.Figure(data=[trace_lst, trace_trendline], layout=layout)\n",
        "\n",
        "        # Show plot\n",
        "        fig.show()\n"
      ],
      "metadata": {
        "id": "hhP9g61TGCk9"
      },
      "execution_count": null,
      "outputs": []
    },
    {
      "cell_type": "markdown",
      "source": [
        "### Vergleichende Zeitreihenanalyse"
      ],
      "metadata": {
        "id": "XFlDZZoZGliX"
      }
    },
    {
      "cell_type": "code",
      "source": [
        "from scipy.stats import linregress\n",
        "\n",
        "def calculate_trendline(x, y):\n",
        "    \"\"\"\n",
        "    Calculate the trendline using linear regression.\n",
        "\n",
        "    Args:\n",
        "    - x (array-like): Independent variable values\n",
        "    - y (array-like): Dependent variable values\n",
        "\n",
        "    Returns:\n",
        "    - trendline (array-like): Predicted values of the trendline\n",
        "    \"\"\"\n",
        "    slope, intercept, _, _, _ = linregress(x, y)\n",
        "    trendline = slope * x + intercept\n",
        "    return trendline\n",
        "\n",
        "def process_and_plot_dataframes(file_path_city_a, file_path_city_b):\n",
        "    \"\"\"\n",
        "    Read in CSV files for two cities, align the time series,\n",
        "    drop values lower than -10, calculate the trendlines,\n",
        "    and plot the comparison of LST between the two cities with trendlines.\n",
        "\n",
        "    Args:\n",
        "    - file_path_city_a (str): File path to the CSV file for city A\n",
        "    - file_path_city_b (str): File path to the CSV file for city B\n",
        "    \"\"\"\n",
        "    # Read the CSV files for both cities\n",
        "    df_city_a = pd.read_csv(file_path_city_a)\n",
        "    df_city_b = pd.read_csv(file_path_city_b)\n",
        "\n",
        "    # Extract last part of the filenames\n",
        "    label_city_a = os.path.splitext(os.path.basename(file_path_city_a))[0].split('_')[-1]\n",
        "    label_city_b = os.path.splitext(os.path.basename(file_path_city_b))[0].split('_')[-1]\n",
        "\n",
        "    # Change column headers\n",
        "    df_city_a = df_city_a.rename(columns={'system:time_start': 'Date', 'LST': f'LST_{label_city_a}'})\n",
        "    df_city_b = df_city_b.rename(columns={'system:time_start': 'Date', 'LST': f'LST_{label_city_b}'})\n",
        "\n",
        "    # Set 'Date' column as index\n",
        "    df_city_a['Date'] = pd.to_datetime(df_city_a['Date'])\n",
        "    df_city_b['Date'] = pd.to_datetime(df_city_b['Date'])\n",
        "    df_city_a.set_index('Date', inplace=True)\n",
        "    df_city_b.set_index('Date', inplace=True)\n",
        "\n",
        "    # Ensure alignment of data based on date index\n",
        "    aligned_df = df_city_a.join(df_city_b, how='outer')\n",
        "\n",
        "    # Drop rows containing NaN values after aligning\n",
        "    aligned_df.dropna(inplace=True)\n",
        "\n",
        "    # Drop values lower than -10\n",
        "    aligned_df = aligned_df[(aligned_df[f'LST_{label_city_a}'] >= -10) & (aligned_df[f'LST_{label_city_b}'] >= -10)]\n",
        "\n",
        "    # Calculate trendlines for both cities\n",
        "    trendline_city_a = calculate_trendline(range(len(aligned_df)), aligned_df[f'LST_{label_city_a}'])\n",
        "    trendline_city_b = calculate_trendline(range(len(aligned_df)), aligned_df[f'LST_{label_city_b}'])\n",
        "\n",
        "    # Create Plotly figure\n",
        "    fig = go.Figure()\n",
        "\n",
        "    # Add traces for LST of both cities\n",
        "    fig.add_trace(go.Scatter(x=aligned_df.index, y=aligned_df[f'LST_{label_city_a}'],\n",
        "                             mode='lines', name=label_city_a))\n",
        "    fig.add_trace(go.Scatter(x=aligned_df.index, y=aligned_df[f'LST_{label_city_b}'],\n",
        "                             mode='lines', name=label_city_b))\n",
        "\n",
        "    # Add trendlines with the same color as the cities\n",
        "    fig.add_trace(go.Scatter(x=aligned_df.index, y=trendline_city_a,\n",
        "                             mode='lines', name=f'Trendline {label_city_a}', line=dict(color='blue', dash='dash')))\n",
        "    fig.add_trace(go.Scatter(x=aligned_df.index, y=trendline_city_b,\n",
        "                             mode='lines', name=f'Trendline {label_city_b}', line=dict(color='red', dash='dash')))\n",
        "\n",
        "    # Update layout\n",
        "    fig.update_layout(title=f'Vergleich von Bodenoberflächentemperaturen zwischen {label_city_a} und {label_city_b} von 2000-2023',\n",
        "                      xaxis_title='Datum',\n",
        "                      yaxis_title='Temperatur in °C',\n",
        "                      template='plotly_white')\n",
        "\n",
        "    # Show plot\n",
        "    fig.show()\n",
        "\n",
        "# Example usage:\n",
        "file_path_city_a = \"LST_Time_Series_Esslingen.csv\"\n",
        "file_path_city_b = \"LST_Time_Series_Stuttgart.csv\"\n",
        "process_and_plot_dataframes(file_path_city_a, file_path_city_b)\n"
      ],
      "metadata": {
        "id": "cx2fUygzGJwM"
      },
      "execution_count": null,
      "outputs": []
    },
    {
      "cell_type": "markdown",
      "source": [
        "### Temperaturdifferenz"
      ],
      "metadata": {
        "id": "ZixL5G0MGsGz"
      }
    },
    {
      "cell_type": "code",
      "source": [
        "def process_and_plot_dataframes(file_path_city_a, file_path_city_b):\n",
        "    df_city_a = pd.read_csv(file_path_city_a)\n",
        "    df_city_b = pd.read_csv(file_path_city_b)\n",
        "\n",
        "    label_city_a = os.path.splitext(os.path.basename(file_path_city_a))[0].split('_')[-1]\n",
        "    label_city_b = os.path.splitext(os.path.basename(file_path_city_b))[0].split('_')[-1]\n",
        "\n",
        "    df_city_a = df_city_a.rename(columns={'system:time_start': 'Date', 'LST': f'LST_{label_city_a}'})\n",
        "    df_city_b = df_city_b.rename(columns={'system:time_start': 'Date', 'LST': f'LST_{label_city_b}'})\n",
        "\n",
        "    df_city_a['Date'] = pd.to_datetime(df_city_a['Date'])\n",
        "    df_city_b['Date'] = pd.to_datetime(df_city_b['Date'])\n",
        "    df_city_a.set_index('Date', inplace=True)\n",
        "    df_city_b.set_index('Date', inplace=True)\n",
        "\n",
        "    aligned_df = df_city_a.join(df_city_b, how='outer')\n",
        "    aligned_df.dropna(inplace=True)\n",
        "\n",
        "    aligned_df['Difference'] = aligned_df[f'LST_{label_city_b}'] - aligned_df[f'LST_{label_city_a}']\n",
        "\n",
        "    fig = go.Figure()\n",
        "\n",
        "    fig.add_trace(go.Scatter(x=aligned_df.index, y=aligned_df['Difference'],\n",
        "                             mode='lines', name=f'Difference {label_city_b} - {label_city_a}'))\n",
        "\n",
        "    fig.update_layout(title=f'Temperaturunterschied der Bodenoberflächentemperatur zwischen {label_city_b} und {label_city_a}',\n",
        "                      xaxis_title='Datum',\n",
        "                      yaxis_title='Unterschied der Temperatur in °C',\n",
        "                      template='plotly_white')\n",
        "\n",
        "    fig.show()\n",
        "\n",
        "# Usage:\n",
        "file_path_city_a = \"LST_Time_Series_Esslingen.csv\"\n",
        "file_path_city_b = \"LST_Time_Series_Stuttgart.csv\"\n",
        "process_and_plot_dataframes(file_path_city_a, file_path_city_b)\n",
        "\n",
        "# if positve value the temperature is higher in city b"
      ],
      "metadata": {
        "id": "sAkCUtX0GO94"
      },
      "execution_count": null,
      "outputs": []
    },
    {
      "cell_type": "markdown",
      "source": [
        "## Niederschlags Zeitreihe"
      ],
      "metadata": {
        "id": "BAY1GlMIG5Ap"
      }
    },
    {
      "cell_type": "code",
      "source": [
        "import ee\n",
        "import plotly.graph_objs as go\n",
        "from datetime import datetime\n",
        "\n",
        "# Authenticate to Earth Engine\n",
        "ee.Authenticate()\n",
        "ee.Initialize()\n",
        "\n",
        "# Load the shapefile for the region of interest\n",
        "regionInt = ee.FeatureCollection('users/dbeckmann/Tuebingen_Shape')\n",
        "\n",
        "# Define the start and end years\n",
        "start_year = 2000\n",
        "end_year = 2023\n",
        "\n",
        "# Define the list of months\n",
        "months = {\n",
        "    1: 'January', 2: 'February', 3: 'March', 4: 'April',\n",
        "    5: 'May', 6: 'June', 7: 'July', 8: 'August',\n",
        "    9: 'September', 10: 'October', 11: 'November', 12: 'December'\n",
        "}\n",
        "\n",
        "# Create an empty dictionary to store the data for each year\n",
        "yearly_data = {}\n",
        "\n",
        "# Loop over each year\n",
        "for year in range(start_year, end_year + 1):\n",
        "    # Create an empty list to store the monthly precipitation for the current year\n",
        "    monthly_precipitation = []\n",
        "\n",
        "    # Loop over each month\n",
        "    for month_num, month_name in months.items():\n",
        "        # Define the start and end dates for the current month and year\n",
        "        start_date = datetime(year, month_num, 1)\n",
        "        end_date = datetime(year, month_num % 12 + 1, 1) if month_num < 12 else datetime(year + 1, 1, 1)\n",
        "\n",
        "        # Filter CHIRPS dataset for the current month and year\n",
        "        filtered = ee.ImageCollection('UCSB-CHG/CHIRPS/PENTAD') \\\n",
        "            .filterDate(start_date, end_date)\n",
        "\n",
        "        # Reduce the filtered collection to get the total precipitation for the current month and year\n",
        "        total = filtered.reduce(ee.Reducer.sum())\n",
        "\n",
        "        # Calculate statistics for the current month and year\n",
        "        stats = total.reduceRegion(\n",
        "            reducer=ee.Reducer.mean(),\n",
        "            geometry=regionInt,\n",
        "            scale=5000\n",
        "        )\n",
        "\n",
        "        # Get the precipitation value and round it to two decimal places\n",
        "        precipitation = round(stats.get('precipitation_sum').getInfo(), 2)\n",
        "\n",
        "        # Add the precipitation for the current month to the list\n",
        "        monthly_precipitation.append(precipitation)\n",
        "\n",
        "    # Add the monthly precipitation data for the current year to the dictionary\n",
        "    yearly_data[year] = monthly_precipitation\n",
        "\n",
        "# Create traces for each year\n",
        "traces = []\n",
        "for year, precipitation_data in yearly_data.items():\n",
        "    trace = go.Bar(\n",
        "        x=list(months.values()),\n",
        "        y=precipitation_data,\n",
        "        name=str(year)\n",
        "    )\n",
        "    traces.append(trace)\n",
        "\n",
        "# Create layout\n",
        "layout = go.Layout(\n",
        "    title='Monthly Precipitation Comparison (2000-2023)',\n",
        "    xaxis=dict(title='Month'),\n",
        "    yaxis=dict(title='Precipitation (mm)')\n",
        ")\n",
        "\n",
        "# Create the figure\n",
        "fig = go.Figure(data=traces, layout=layout)\n",
        "\n",
        "# Display the figure\n",
        "fig.show()\n"
      ],
      "metadata": {
        "colab": {
          "base_uri": "https://localhost:8080/",
          "height": 579
        },
        "id": "ORvkEDCu33FP",
        "outputId": "ac61fe19-27a7-4301-d999-1598cc49e61d"
      },
      "execution_count": 39,
      "outputs": [
        {
          "output_type": "display_data",
          "data": {
            "text/plain": [
              "<IPython.core.display.HTML object>"
            ],
            "text/html": [
              "\n",
              "            <style>\n",
              "                .geemap-dark {\n",
              "                    --jp-widgets-color: white;\n",
              "                    --jp-widgets-label-color: white;\n",
              "                    --jp-ui-font-color1: white;\n",
              "                    --jp-layout-color2: #454545;\n",
              "                    background-color: #383838;\n",
              "                }\n",
              "\n",
              "                .geemap-dark .jupyter-button {\n",
              "                    --jp-layout-color3: #383838;\n",
              "                }\n",
              "\n",
              "                .geemap-colab {\n",
              "                    background-color: var(--colab-primary-surface-color, white);\n",
              "                }\n",
              "\n",
              "                .geemap-colab .jupyter-button {\n",
              "                    --jp-layout-color3: var(--colab-primary-surface-color, white);\n",
              "                }\n",
              "            </style>\n",
              "            "
            ]
          },
          "metadata": {}
        },
        {
          "output_type": "stream",
          "name": "stderr",
          "text": [
            "WARNING:googleapiclient.http:Sleeping 0.45 seconds before retry 1 of 5 for request: POST https://earthengine.googleapis.com/v1/projects/ee-dbeckmann/value:compute?prettyPrint=false&alt=json, after 503\n"
          ]
        },
        {
          "output_type": "display_data",
          "data": {
            "text/html": [
              "<html>\n",
              "<head><meta charset=\"utf-8\" /></head>\n",
              "<body>\n",
              "    <div>            <script src=\"https://cdnjs.cloudflare.com/ajax/libs/mathjax/2.7.5/MathJax.js?config=TeX-AMS-MML_SVG\"></script><script type=\"text/javascript\">if (window.MathJax && window.MathJax.Hub && window.MathJax.Hub.Config) {window.MathJax.Hub.Config({SVG: {font: \"STIX-Web\"}});}</script>                <script type=\"text/javascript\">window.PlotlyConfig = {MathJaxConfig: 'local'};</script>\n",
              "        <script charset=\"utf-8\" src=\"https://cdn.plot.ly/plotly-2.24.1.min.js\"></script>                <div id=\"cdda3aca-32f5-4e7a-8866-19966ff6f74a\" class=\"plotly-graph-div\" style=\"height:525px; width:100%;\"></div>            <script type=\"text/javascript\">                                    window.PLOTLYENV=window.PLOTLYENV || {};                                    if (document.getElementById(\"cdda3aca-32f5-4e7a-8866-19966ff6f74a\")) {                    Plotly.newPlot(                        \"cdda3aca-32f5-4e7a-8866-19966ff6f74a\",                        [{\"name\":\"2000\",\"x\":[\"January\",\"February\",\"March\",\"April\",\"May\",\"June\",\"July\",\"August\",\"September\",\"October\",\"November\",\"December\"],\"y\":[33.95,65.99,62.87,52.15,102.02,49.56,133.03,67.24,75.98,52.41,64.57,36.41],\"type\":\"bar\"},{\"name\":\"2001\",\"x\":[\"January\",\"February\",\"March\",\"April\",\"May\",\"June\",\"July\",\"August\",\"September\",\"October\",\"November\",\"December\"],\"y\":[58.42,39.82,113.57,64.42,56.12,113.89,70.27,48.49,73.46,50.43,65.27,47.1],\"type\":\"bar\"},{\"name\":\"2002\",\"x\":[\"January\",\"February\",\"March\",\"April\",\"May\",\"June\",\"July\",\"August\",\"September\",\"October\",\"November\",\"December\"],\"y\":[23.67,66.96,59.87,40.89,115.04,103.07,96.34,105.01,74.67,76.24,101.2,45.54],\"type\":\"bar\"},{\"name\":\"2003\",\"x\":[\"January\",\"February\",\"March\",\"April\",\"May\",\"June\",\"July\",\"August\",\"September\",\"October\",\"November\",\"December\"],\"y\":[59.36,21.19,21.92,29.08,78.22,84.2,77.14,48.68,34.08,68.97,47.26,40.52],\"type\":\"bar\"},{\"name\":\"2004\",\"x\":[\"January\",\"February\",\"March\",\"April\",\"May\",\"June\",\"July\",\"August\",\"September\",\"October\",\"November\",\"December\"],\"y\":[112.24,33.44,34.43,25.04,72.62,56.01,79.61,69.56,36.23,73.14,30.44,35.2],\"type\":\"bar\"},{\"name\":\"2005\",\"x\":[\"January\",\"February\",\"March\",\"April\",\"May\",\"June\",\"July\",\"August\",\"September\",\"October\",\"November\",\"December\"],\"y\":[26.37,32.27,38.56,65.78,76.79,56.54,100.11,79.19,50.03,44.68,29.24,45.11],\"type\":\"bar\"},{\"name\":\"2006\",\"x\":[\"January\",\"February\",\"March\",\"April\",\"May\",\"June\",\"July\",\"August\",\"September\",\"October\",\"November\",\"December\"],\"y\":[16.98,35.87,83.37,85.09,101.6,52.26,91.92,104.88,75.4,62.72,40.84,44.55],\"type\":\"bar\"},{\"name\":\"2007\",\"x\":[\"January\",\"February\",\"March\",\"April\",\"May\",\"June\",\"July\",\"August\",\"September\",\"October\",\"November\",\"December\"],\"y\":[54.89,61.06,67.7,17.28,104.52,135.14,120.75,113.97,58.41,15.4,43.56,50.08],\"type\":\"bar\"},{\"name\":\"2008\",\"x\":[\"January\",\"February\",\"March\",\"April\",\"May\",\"June\",\"July\",\"August\",\"September\",\"October\",\"November\",\"December\"],\"y\":[64.35,34.4,53.38,80.05,54.07,61.9,95.65,85.44,57.98,65.08,35.14,39.97],\"type\":\"bar\"},{\"name\":\"2009\",\"x\":[\"January\",\"February\",\"March\",\"April\",\"May\",\"June\",\"July\",\"August\",\"September\",\"October\",\"November\",\"December\"],\"y\":[48.68,34.53,55.21,25.84,104.27,87.89,155.27,46.97,32.88,44.02,67.17,81.93],\"type\":\"bar\"},{\"name\":\"2010\",\"x\":[\"January\",\"February\",\"March\",\"April\",\"May\",\"June\",\"July\",\"August\",\"September\",\"October\",\"November\",\"December\"],\"y\":[44.62,39.95,37.94,23.12,112.0,79.67,134.6,88.61,50.72,44.1,51.21,94.51],\"type\":\"bar\"},{\"name\":\"2011\",\"x\":[\"January\",\"February\",\"March\",\"April\",\"May\",\"June\",\"July\",\"August\",\"September\",\"October\",\"November\",\"December\"],\"y\":[31.82,20.58,28.56,26.65,54.43,92.88,127.05,73.5,49.51,37.47,14.37,90.14],\"type\":\"bar\"},{\"name\":\"2012\",\"x\":[\"January\",\"February\",\"March\",\"April\",\"May\",\"June\",\"July\",\"August\",\"September\",\"October\",\"November\",\"December\"],\"y\":[72.9,18.58,19.86,46.89,63.18,100.82,95.78,81.94,53.35,59.05,84.87,77.67],\"type\":\"bar\"},{\"name\":\"2013\",\"x\":[\"January\",\"February\",\"March\",\"April\",\"May\",\"June\",\"July\",\"August\",\"September\",\"October\",\"November\",\"December\"],\"y\":[39.82,44.88,46.15,56.36,121.83,88.46,72.87,75.94,61.25,43.1,42.33,30.22],\"type\":\"bar\"},{\"name\":\"2014\",\"x\":[\"January\",\"February\",\"March\",\"April\",\"May\",\"June\",\"July\",\"August\",\"September\",\"October\",\"November\",\"December\"],\"y\":[50.75,47.24,21.68,42.32,52.68,58.63,195.02,116.63,47.91,44.53,60.08,40.67],\"type\":\"bar\"},{\"name\":\"2015\",\"x\":[\"January\",\"February\",\"March\",\"April\",\"May\",\"June\",\"July\",\"August\",\"September\",\"October\",\"November\",\"December\"],\"y\":[79.72,22.65,28.8,41.65,77.38,94.64,47.95,64.16,35.83,25.7,63.0,30.6],\"type\":\"bar\"},{\"name\":\"2016\",\"x\":[\"January\",\"February\",\"March\",\"April\",\"May\",\"June\",\"July\",\"August\",\"September\",\"October\",\"November\",\"December\"],\"y\":[103.14,67.22,39.59,57.7,93.37,151.31,80.62,62.43,40.07,43.65,58.74,12.91],\"type\":\"bar\"},{\"name\":\"2017\",\"x\":[\"January\",\"February\",\"March\",\"April\",\"May\",\"June\",\"July\",\"August\",\"September\",\"October\",\"November\",\"December\"],\"y\":[21.22,36.89,50.93,46.06,68.06,72.92,128.52,91.16,62.47,36.8,70.76,52.41],\"type\":\"bar\"},{\"name\":\"2018\",\"x\":[\"January\",\"February\",\"March\",\"April\",\"May\",\"June\",\"July\",\"August\",\"September\",\"October\",\"November\",\"December\"],\"y\":[94.34,35.32,36.74,26.96,74.34,78.23,54.68,54.85,47.05,36.07,22.06,62.61],\"type\":\"bar\"},{\"name\":\"2019\",\"x\":[\"January\",\"February\",\"March\",\"April\",\"May\",\"June\",\"July\",\"August\",\"September\",\"October\",\"November\",\"December\"],\"y\":[49.17,25.45,55.03,34.14,100.16,67.28,86.2,95.95,48.52,59.36,50.73,42.45],\"type\":\"bar\"},{\"name\":\"2020\",\"x\":[\"January\",\"February\",\"March\",\"April\",\"May\",\"June\",\"July\",\"August\",\"September\",\"October\",\"November\",\"December\"],\"y\":[25.46,72.19,40.93,15.66,52.59,75.01,47.72,104.54,35.28,56.37,24.08,56.0],\"type\":\"bar\"},{\"name\":\"2021\",\"x\":[\"January\",\"February\",\"March\",\"April\",\"May\",\"June\",\"July\",\"August\",\"September\",\"October\",\"November\",\"December\"],\"y\":[101.11,38.8,38.34,26.53,101.41,180.39,119.32,75.61,31.33,31.15,25.28,53.61],\"type\":\"bar\"},{\"name\":\"2022\",\"x\":[\"January\",\"February\",\"March\",\"April\",\"May\",\"June\",\"July\",\"August\",\"September\",\"October\",\"November\",\"December\"],\"y\":[29.8,32.61,24.33,52.5,52.49,106.27,38.48,79.07,70.12,51.68,51.76,48.11],\"type\":\"bar\"},{\"name\":\"2023\",\"x\":[\"January\",\"February\",\"March\",\"April\",\"May\",\"June\",\"July\",\"August\",\"September\",\"October\",\"November\",\"December\"],\"y\":[39.61,18.88,64.58,56.74,62.68,38.17,82.15,103.87,31.42,57.9,100.17,80.72],\"type\":\"bar\"}],                        {\"title\":{\"text\":\"Monthly Precipitation Comparison (2000-2023)\"},\"xaxis\":{\"title\":{\"text\":\"Month\"}},\"yaxis\":{\"title\":{\"text\":\"Precipitation (mm)\"}},\"template\":{\"data\":{\"histogram2dcontour\":[{\"type\":\"histogram2dcontour\",\"colorbar\":{\"outlinewidth\":0,\"ticks\":\"\"},\"colorscale\":[[0.0,\"#0d0887\"],[0.1111111111111111,\"#46039f\"],[0.2222222222222222,\"#7201a8\"],[0.3333333333333333,\"#9c179e\"],[0.4444444444444444,\"#bd3786\"],[0.5555555555555556,\"#d8576b\"],[0.6666666666666666,\"#ed7953\"],[0.7777777777777778,\"#fb9f3a\"],[0.8888888888888888,\"#fdca26\"],[1.0,\"#f0f921\"]]}],\"choropleth\":[{\"type\":\"choropleth\",\"colorbar\":{\"outlinewidth\":0,\"ticks\":\"\"}}],\"histogram2d\":[{\"type\":\"histogram2d\",\"colorbar\":{\"outlinewidth\":0,\"ticks\":\"\"},\"colorscale\":[[0.0,\"#0d0887\"],[0.1111111111111111,\"#46039f\"],[0.2222222222222222,\"#7201a8\"],[0.3333333333333333,\"#9c179e\"],[0.4444444444444444,\"#bd3786\"],[0.5555555555555556,\"#d8576b\"],[0.6666666666666666,\"#ed7953\"],[0.7777777777777778,\"#fb9f3a\"],[0.8888888888888888,\"#fdca26\"],[1.0,\"#f0f921\"]]}],\"heatmap\":[{\"type\":\"heatmap\",\"colorbar\":{\"outlinewidth\":0,\"ticks\":\"\"},\"colorscale\":[[0.0,\"#0d0887\"],[0.1111111111111111,\"#46039f\"],[0.2222222222222222,\"#7201a8\"],[0.3333333333333333,\"#9c179e\"],[0.4444444444444444,\"#bd3786\"],[0.5555555555555556,\"#d8576b\"],[0.6666666666666666,\"#ed7953\"],[0.7777777777777778,\"#fb9f3a\"],[0.8888888888888888,\"#fdca26\"],[1.0,\"#f0f921\"]]}],\"heatmapgl\":[{\"type\":\"heatmapgl\",\"colorbar\":{\"outlinewidth\":0,\"ticks\":\"\"},\"colorscale\":[[0.0,\"#0d0887\"],[0.1111111111111111,\"#46039f\"],[0.2222222222222222,\"#7201a8\"],[0.3333333333333333,\"#9c179e\"],[0.4444444444444444,\"#bd3786\"],[0.5555555555555556,\"#d8576b\"],[0.6666666666666666,\"#ed7953\"],[0.7777777777777778,\"#fb9f3a\"],[0.8888888888888888,\"#fdca26\"],[1.0,\"#f0f921\"]]}],\"contourcarpet\":[{\"type\":\"contourcarpet\",\"colorbar\":{\"outlinewidth\":0,\"ticks\":\"\"}}],\"contour\":[{\"type\":\"contour\",\"colorbar\":{\"outlinewidth\":0,\"ticks\":\"\"},\"colorscale\":[[0.0,\"#0d0887\"],[0.1111111111111111,\"#46039f\"],[0.2222222222222222,\"#7201a8\"],[0.3333333333333333,\"#9c179e\"],[0.4444444444444444,\"#bd3786\"],[0.5555555555555556,\"#d8576b\"],[0.6666666666666666,\"#ed7953\"],[0.7777777777777778,\"#fb9f3a\"],[0.8888888888888888,\"#fdca26\"],[1.0,\"#f0f921\"]]}],\"surface\":[{\"type\":\"surface\",\"colorbar\":{\"outlinewidth\":0,\"ticks\":\"\"},\"colorscale\":[[0.0,\"#0d0887\"],[0.1111111111111111,\"#46039f\"],[0.2222222222222222,\"#7201a8\"],[0.3333333333333333,\"#9c179e\"],[0.4444444444444444,\"#bd3786\"],[0.5555555555555556,\"#d8576b\"],[0.6666666666666666,\"#ed7953\"],[0.7777777777777778,\"#fb9f3a\"],[0.8888888888888888,\"#fdca26\"],[1.0,\"#f0f921\"]]}],\"mesh3d\":[{\"type\":\"mesh3d\",\"colorbar\":{\"outlinewidth\":0,\"ticks\":\"\"}}],\"scatter\":[{\"fillpattern\":{\"fillmode\":\"overlay\",\"size\":10,\"solidity\":0.2},\"type\":\"scatter\"}],\"parcoords\":[{\"type\":\"parcoords\",\"line\":{\"colorbar\":{\"outlinewidth\":0,\"ticks\":\"\"}}}],\"scatterpolargl\":[{\"type\":\"scatterpolargl\",\"marker\":{\"colorbar\":{\"outlinewidth\":0,\"ticks\":\"\"}}}],\"bar\":[{\"error_x\":{\"color\":\"#2a3f5f\"},\"error_y\":{\"color\":\"#2a3f5f\"},\"marker\":{\"line\":{\"color\":\"#E5ECF6\",\"width\":0.5},\"pattern\":{\"fillmode\":\"overlay\",\"size\":10,\"solidity\":0.2}},\"type\":\"bar\"}],\"scattergeo\":[{\"type\":\"scattergeo\",\"marker\":{\"colorbar\":{\"outlinewidth\":0,\"ticks\":\"\"}}}],\"scatterpolar\":[{\"type\":\"scatterpolar\",\"marker\":{\"colorbar\":{\"outlinewidth\":0,\"ticks\":\"\"}}}],\"histogram\":[{\"marker\":{\"pattern\":{\"fillmode\":\"overlay\",\"size\":10,\"solidity\":0.2}},\"type\":\"histogram\"}],\"scattergl\":[{\"type\":\"scattergl\",\"marker\":{\"colorbar\":{\"outlinewidth\":0,\"ticks\":\"\"}}}],\"scatter3d\":[{\"type\":\"scatter3d\",\"line\":{\"colorbar\":{\"outlinewidth\":0,\"ticks\":\"\"}},\"marker\":{\"colorbar\":{\"outlinewidth\":0,\"ticks\":\"\"}}}],\"scattermapbox\":[{\"type\":\"scattermapbox\",\"marker\":{\"colorbar\":{\"outlinewidth\":0,\"ticks\":\"\"}}}],\"scatterternary\":[{\"type\":\"scatterternary\",\"marker\":{\"colorbar\":{\"outlinewidth\":0,\"ticks\":\"\"}}}],\"scattercarpet\":[{\"type\":\"scattercarpet\",\"marker\":{\"colorbar\":{\"outlinewidth\":0,\"ticks\":\"\"}}}],\"carpet\":[{\"aaxis\":{\"endlinecolor\":\"#2a3f5f\",\"gridcolor\":\"white\",\"linecolor\":\"white\",\"minorgridcolor\":\"white\",\"startlinecolor\":\"#2a3f5f\"},\"baxis\":{\"endlinecolor\":\"#2a3f5f\",\"gridcolor\":\"white\",\"linecolor\":\"white\",\"minorgridcolor\":\"white\",\"startlinecolor\":\"#2a3f5f\"},\"type\":\"carpet\"}],\"table\":[{\"cells\":{\"fill\":{\"color\":\"#EBF0F8\"},\"line\":{\"color\":\"white\"}},\"header\":{\"fill\":{\"color\":\"#C8D4E3\"},\"line\":{\"color\":\"white\"}},\"type\":\"table\"}],\"barpolar\":[{\"marker\":{\"line\":{\"color\":\"#E5ECF6\",\"width\":0.5},\"pattern\":{\"fillmode\":\"overlay\",\"size\":10,\"solidity\":0.2}},\"type\":\"barpolar\"}],\"pie\":[{\"automargin\":true,\"type\":\"pie\"}]},\"layout\":{\"autotypenumbers\":\"strict\",\"colorway\":[\"#636efa\",\"#EF553B\",\"#00cc96\",\"#ab63fa\",\"#FFA15A\",\"#19d3f3\",\"#FF6692\",\"#B6E880\",\"#FF97FF\",\"#FECB52\"],\"font\":{\"color\":\"#2a3f5f\"},\"hovermode\":\"closest\",\"hoverlabel\":{\"align\":\"left\"},\"paper_bgcolor\":\"white\",\"plot_bgcolor\":\"#E5ECF6\",\"polar\":{\"bgcolor\":\"#E5ECF6\",\"angularaxis\":{\"gridcolor\":\"white\",\"linecolor\":\"white\",\"ticks\":\"\"},\"radialaxis\":{\"gridcolor\":\"white\",\"linecolor\":\"white\",\"ticks\":\"\"}},\"ternary\":{\"bgcolor\":\"#E5ECF6\",\"aaxis\":{\"gridcolor\":\"white\",\"linecolor\":\"white\",\"ticks\":\"\"},\"baxis\":{\"gridcolor\":\"white\",\"linecolor\":\"white\",\"ticks\":\"\"},\"caxis\":{\"gridcolor\":\"white\",\"linecolor\":\"white\",\"ticks\":\"\"}},\"coloraxis\":{\"colorbar\":{\"outlinewidth\":0,\"ticks\":\"\"}},\"colorscale\":{\"sequential\":[[0.0,\"#0d0887\"],[0.1111111111111111,\"#46039f\"],[0.2222222222222222,\"#7201a8\"],[0.3333333333333333,\"#9c179e\"],[0.4444444444444444,\"#bd3786\"],[0.5555555555555556,\"#d8576b\"],[0.6666666666666666,\"#ed7953\"],[0.7777777777777778,\"#fb9f3a\"],[0.8888888888888888,\"#fdca26\"],[1.0,\"#f0f921\"]],\"sequentialminus\":[[0.0,\"#0d0887\"],[0.1111111111111111,\"#46039f\"],[0.2222222222222222,\"#7201a8\"],[0.3333333333333333,\"#9c179e\"],[0.4444444444444444,\"#bd3786\"],[0.5555555555555556,\"#d8576b\"],[0.6666666666666666,\"#ed7953\"],[0.7777777777777778,\"#fb9f3a\"],[0.8888888888888888,\"#fdca26\"],[1.0,\"#f0f921\"]],\"diverging\":[[0,\"#8e0152\"],[0.1,\"#c51b7d\"],[0.2,\"#de77ae\"],[0.3,\"#f1b6da\"],[0.4,\"#fde0ef\"],[0.5,\"#f7f7f7\"],[0.6,\"#e6f5d0\"],[0.7,\"#b8e186\"],[0.8,\"#7fbc41\"],[0.9,\"#4d9221\"],[1,\"#276419\"]]},\"xaxis\":{\"gridcolor\":\"white\",\"linecolor\":\"white\",\"ticks\":\"\",\"title\":{\"standoff\":15},\"zerolinecolor\":\"white\",\"automargin\":true,\"zerolinewidth\":2},\"yaxis\":{\"gridcolor\":\"white\",\"linecolor\":\"white\",\"ticks\":\"\",\"title\":{\"standoff\":15},\"zerolinecolor\":\"white\",\"automargin\":true,\"zerolinewidth\":2},\"scene\":{\"xaxis\":{\"backgroundcolor\":\"#E5ECF6\",\"gridcolor\":\"white\",\"linecolor\":\"white\",\"showbackground\":true,\"ticks\":\"\",\"zerolinecolor\":\"white\",\"gridwidth\":2},\"yaxis\":{\"backgroundcolor\":\"#E5ECF6\",\"gridcolor\":\"white\",\"linecolor\":\"white\",\"showbackground\":true,\"ticks\":\"\",\"zerolinecolor\":\"white\",\"gridwidth\":2},\"zaxis\":{\"backgroundcolor\":\"#E5ECF6\",\"gridcolor\":\"white\",\"linecolor\":\"white\",\"showbackground\":true,\"ticks\":\"\",\"zerolinecolor\":\"white\",\"gridwidth\":2}},\"shapedefaults\":{\"line\":{\"color\":\"#2a3f5f\"}},\"annotationdefaults\":{\"arrowcolor\":\"#2a3f5f\",\"arrowhead\":0,\"arrowwidth\":1},\"geo\":{\"bgcolor\":\"white\",\"landcolor\":\"#E5ECF6\",\"subunitcolor\":\"white\",\"showland\":true,\"showlakes\":true,\"lakecolor\":\"white\"},\"title\":{\"x\":0.05},\"mapbox\":{\"style\":\"light\"}}}},                        {\"responsive\": true}                    ).then(function(){\n",
              "                            \n",
              "var gd = document.getElementById('cdda3aca-32f5-4e7a-8866-19966ff6f74a');\n",
              "var x = new MutationObserver(function (mutations, observer) {{\n",
              "        var display = window.getComputedStyle(gd).display;\n",
              "        if (!display || display === 'none') {{\n",
              "            console.log([gd, 'removed!']);\n",
              "            Plotly.purge(gd);\n",
              "            observer.disconnect();\n",
              "        }}\n",
              "}});\n",
              "\n",
              "// Listen for the removal of the full notebook cells\n",
              "var notebookContainer = gd.closest('#notebook-container');\n",
              "if (notebookContainer) {{\n",
              "    x.observe(notebookContainer, {childList: true});\n",
              "}}\n",
              "\n",
              "// Listen for the clearing of the current output cell\n",
              "var outputEl = gd.closest('.output');\n",
              "if (outputEl) {{\n",
              "    x.observe(outputEl, {childList: true});\n",
              "}}\n",
              "\n",
              "                        })                };                            </script>        </div>\n",
              "</body>\n",
              "</html>"
            ]
          },
          "metadata": {}
        }
      ]
    }
  ]
}