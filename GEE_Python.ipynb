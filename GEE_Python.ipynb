{
  "nbformat": 4,
  "nbformat_minor": 0,
  "metadata": {
    "colab": {
      "provenance": [],
      "toc_visible": true,
      "mount_file_id": "1OQIgwkyUOldsGTpjMTMhf-k09cV-Tej3",
      "authorship_tag": "ABX9TyO+3NGmQmUytSrqHpBspPsG",
      "include_colab_link": true
    },
    "kernelspec": {
      "name": "python3",
      "display_name": "Python 3"
    },
    "language_info": {
      "name": "python"
    }
  },
  "cells": [
    {
      "cell_type": "markdown",
      "metadata": {
        "id": "view-in-github",
        "colab_type": "text"
      },
      "source": [
        "<a href=\"https://colab.research.google.com/github/dadabeckmann/Masterarbeit_Code/blob/main/GEE_Python.ipynb\" target=\"_parent\"><img src=\"https://colab.research.google.com/assets/colab-badge.svg\" alt=\"Open In Colab\"/></a>"
      ]
    },
    {
      "cell_type": "markdown",
      "source": [
        "# Räumliche Statistiken"
      ],
      "metadata": {
        "id": "XYPiePkIn8OU"
      }
    },
    {
      "cell_type": "code",
      "source": [
        "import ee\n",
        "# Trigger the authentication flow.\n",
        "ee.Authenticate()\n",
        "\n",
        "# Initialize the library.\n",
        "ee.Initialize(project='ee-dbeckmann')"
      ],
      "metadata": {
        "id": "tILxgzbr-Sl7"
      },
      "execution_count": 32,
      "outputs": []
    },
    {
      "cell_type": "markdown",
      "source": [
        "# Import Packages\n"
      ],
      "metadata": {
        "id": "2XxpE0TpoCa9"
      }
    },
    {
      "cell_type": "code",
      "source": [
        "# Packages\n",
        "import ee\n",
        "import matplotlib.pyplot as plt # for plots\n",
        "import branca.colormap as cm # for colormaps\n",
        "import folium\n",
        "import geemap\n",
        "import numpy as np\n",
        "import pandas as pd\n",
        "import seaborn as sns\n",
        "from datetime import datetime\n"
      ],
      "metadata": {
        "id": "uXYlJ_RTGQ3s"
      },
      "execution_count": 33,
      "outputs": []
    },
    {
      "cell_type": "markdown",
      "source": [
        "## Wolken Filter und Beobachtungsdauer"
      ],
      "metadata": {
        "id": "aqZaimB9oG9y"
      }
    },
    {
      "cell_type": "code",
      "source": [
        "# Load in Shapefile\n",
        "regionInt = ee.FeatureCollection('users/dbeckmann/Tuebingen_Shape')\n",
        "\n",
        "# Define constants\n",
        "START_DATE = '2018-01-01'\n",
        "END_DATE = '2018-12-31'\n",
        "MAX_CLOUD_COVER = 50\n",
        "\n",
        "# Function to filter out cloudy pixels\n",
        "def cloud_mask(img):\n",
        "    cloud_shadow_bit_mask = (1 << 3)  # Bits 3 and 5 are cloud shadow and cloud, respectively.\n",
        "    clouds_bit_mask = (1 << 5)\n",
        "    qa = img.select('QA_PIXEL')  # Get the pixel QA band.\n",
        "    mask = qa.bitwiseAnd(cloud_shadow_bit_mask).eq(0) \\\n",
        "                 .And(qa.bitwiseAnd(clouds_bit_mask).eq(0))  # Both flags should be set to zero, indicating clear conditions.\n",
        "    return img.updateMask(mask)\n",
        "\n",
        "# Load the collection, apply cloud mask, and filter to date and region of interest.\n",
        "col_before = ee.ImageCollection('LANDSAT/LC08/C02/T1_TOA') \\\n",
        "    .filterDate(START_DATE, END_DATE)\n",
        "\n",
        "col_count_before = col_before.size().getInfo()\n",
        "print('Col before Cloud Filter:', col_count_before)\n",
        "\n",
        "col_after = ee.ImageCollection('LANDSAT/LC08/C02/T1_TOA') \\\n",
        "    .filterBounds(regionInt) \\\n",
        "    .filterDate(START_DATE, END_DATE) \\\n",
        "    .map(cloud_mask) \\\n",
        "    .filter(ee.Filter.lt('CLOUD_COVER', MAX_CLOUD_COVER))\n",
        "\n",
        "\n"
      ],
      "metadata": {
        "colab": {
          "base_uri": "https://localhost:8080/",
          "height": 34
        },
        "id": "XyXM0o9nLLCr",
        "outputId": "96d95875-7784-4cb6-f25c-d7773cd3fe08"
      },
      "execution_count": 34,
      "outputs": [
        {
          "output_type": "display_data",
          "data": {
            "text/plain": [
              "<IPython.core.display.HTML object>"
            ],
            "text/html": [
              "\n",
              "            <style>\n",
              "                .geemap-dark {\n",
              "                    --jp-widgets-color: white;\n",
              "                    --jp-widgets-label-color: white;\n",
              "                    --jp-ui-font-color1: white;\n",
              "                    --jp-layout-color2: #454545;\n",
              "                    background-color: #383838;\n",
              "                }\n",
              "\n",
              "                .geemap-dark .jupyter-button {\n",
              "                    --jp-layout-color3: #383838;\n",
              "                }\n",
              "\n",
              "                .geemap-colab {\n",
              "                    background-color: var(--colab-primary-surface-color, white);\n",
              "                }\n",
              "\n",
              "                .geemap-colab .jupyter-button {\n",
              "                    --jp-layout-color3: var(--colab-primary-surface-color, white);\n",
              "                }\n",
              "            </style>\n",
              "            "
            ]
          },
          "metadata": {}
        },
        {
          "output_type": "stream",
          "name": "stdout",
          "text": [
            "Col before Cloud Filter: 164698\n"
          ]
        }
      ]
    },
    {
      "cell_type": "markdown",
      "source": [
        "## Anzahl an genutzen Bildern"
      ],
      "metadata": {
        "id": "yVwnE2mgoRrC"
      }
    },
    {
      "cell_type": "code",
      "source": [
        "# Count used images\n",
        "image_count = col_after.size().getInfo()\n",
        "print('Number of images in Sentinel-2 collection:', image_count)\n",
        "\n",
        "# Show dates of used images\n",
        "dates = col_after.aggregate_array('system:time_start')\n",
        "formatted_dates = ee.List(dates).map(lambda date: ee.Date(date).format('YYYY-MM-dd')).sort().getInfo()\n",
        "\n",
        "# Print the sorted dates\n",
        "print('Used Dates:', formatted_dates)\n"
      ],
      "metadata": {
        "colab": {
          "base_uri": "https://localhost:8080/",
          "height": 72
        },
        "id": "0XTWNqutLkls",
        "outputId": "989f56ab-69fa-4252-cc4b-4b9322a756ed"
      },
      "execution_count": 35,
      "outputs": [
        {
          "output_type": "display_data",
          "data": {
            "text/plain": [
              "<IPython.core.display.HTML object>"
            ],
            "text/html": [
              "\n",
              "            <style>\n",
              "                .geemap-dark {\n",
              "                    --jp-widgets-color: white;\n",
              "                    --jp-widgets-label-color: white;\n",
              "                    --jp-ui-font-color1: white;\n",
              "                    --jp-layout-color2: #454545;\n",
              "                    background-color: #383838;\n",
              "                }\n",
              "\n",
              "                .geemap-dark .jupyter-button {\n",
              "                    --jp-layout-color3: #383838;\n",
              "                }\n",
              "\n",
              "                .geemap-colab {\n",
              "                    background-color: var(--colab-primary-surface-color, white);\n",
              "                }\n",
              "\n",
              "                .geemap-colab .jupyter-button {\n",
              "                    --jp-layout-color3: var(--colab-primary-surface-color, white);\n",
              "                }\n",
              "            </style>\n",
              "            "
            ]
          },
          "metadata": {}
        },
        {
          "output_type": "stream",
          "name": "stdout",
          "text": [
            "Number of images in Sentinel-2 collection: 11\n",
            "Used Dates: ['2018-03-08', '2018-03-24', '2018-04-25', '2018-05-18', '2018-06-03', '2018-07-14', '2018-07-30', '2018-08-06', '2018-08-22', '2018-09-16', '2018-10-18']\n"
          ]
        }
      ]
    },
    {
      "cell_type": "markdown",
      "source": [
        "## Median LST von Untersuchungsgebiet"
      ],
      "metadata": {
        "id": "Lsux02sKHYNF"
      }
    },
    {
      "cell_type": "code",
      "source": [
        "# Generate median composite\n",
        "image = col_after.median()\n",
        "\n",
        "# Select thermal band 10 (with brightness temperature)\n",
        "thermal = image.select('B10') \\\n",
        "    .clip(regionInt) \\\n",
        "\n",
        "# Calculate Normalized Difference Vegetation Index (NDVI) from Landsat surface reflectance\n",
        "ndvi = ee.ImageCollection('LANDSAT/LC08/C02/T1_L2') \\\n",
        "    .filterBounds(regionInt) \\\n",
        "    .filterDate('2018-01-01', '2018-12-31') \\\n",
        "    .median() \\\n",
        "    .normalizedDifference(['SR_B5', 'SR_B4']) \\\n",
        "    .rename('NDVI') \\\n",
        "    .clip(regionInt) \\\n",
        "\n",
        "# Find the minimum and maximum of NDVI\n",
        "min_max = ndvi.reduceRegion(\n",
        "    reducer=ee.Reducer.minMax(),\n",
        "    geometry=regionInt,\n",
        "    scale=30,\n",
        "    maxPixels=1e9\n",
        ")\n",
        "\n",
        "# Calculate fractional vegetation\n",
        "min_val = ee.Number(min_max.get('NDVI_min'))\n",
        "max_val = ee.Number(min_max.get('NDVI_max'))\n",
        "fv = ndvi.subtract(min_val).divide(max_val.subtract(min_val)).rename('FV')\n",
        "\n",
        "# Emissivity calculations\n",
        "a = ee.Number(0.004)\n",
        "b = ee.Number(0.986)\n",
        "em = fv.multiply(a).add(b).rename('EMM')\n",
        "\n",
        "# Calculate LST from emissivity and brightness temperature\n",
        "lst_landsat_median = thermal.expression(\n",
        "    '(Tb / (1 + (0.001145 * (Tb / 1.438)) * log(Ep))) - 273.15',\n",
        "    {\n",
        "        'Tb': thermal.select('B10'),\n",
        "        'Ep': em.select('EMM')\n",
        "    })\n",
        "\n",
        "# Function to load in the vizparams\n",
        "\n",
        "def add_ee_layer(map, ee_image, vis_params, region, name):\n",
        "    \"\"\"Add Earth Engine tile layer to Folium map.\"\"\"\n",
        "    # Get the URL of the Earth Engine TileLayer with a specified region and visualization parameters\n",
        "    tile_url = ee_image.getMapId(vis_params)['tile_fetcher'].url_format\n",
        "\n",
        "    # Add Earth Engine tile layer to Folium map\n",
        "    folium.TileLayer(\n",
        "        tiles=tile_url,\n",
        "        attr=name,\n",
        "        name=name,\n",
        "        overlay=True,\n",
        "    ).add_to(map)\n",
        "\n",
        "    return map\n",
        "\n",
        "# Create a map centered around the region of interest\n",
        "map = folium.Map(location=[48.521637, 9.057645], zoom_start=10)\n",
        "\n",
        "# Define visualization parameters\n",
        "thermal_vis = {'min': 295, 'max': 310, 'palette': ['#2b83ba', '#abdda4', '#ffffbf', '#fdae61', '#d7191c', '#abdda4']}\n",
        "ndvi_vis = {'min': 0, 'max': 1, 'palette': ['blue', 'white', 'green']}\n",
        "fv_vis = {'min': 0, 'max': 1, 'palette': ['blue', 'white', 'green']}\n",
        "em_vis = {'min': 0, 'max': 0.99, 'palette': ['blue', 'white', 'green']}\n",
        "lst_vis = {'min': 15, 'max': 35, 'palette': ['#2b83ba', '#abdda4', '#ffffbf', '#fdae61', '#d7191c', '#abdda4']}\n",
        "\n",
        "# Add layers to the map using the function\n",
        "map = add_ee_layer(map, thermal, thermal_vis, regionInt, 'Landsat_BT')\n",
        "map = add_ee_layer(map, ndvi, ndvi_vis, regionInt, 'NDVI')\n",
        "map = add_ee_layer(map, ndvi, fv_vis, regionInt, 'Fractional Vegetation')\n",
        "map = add_ee_layer(map, ndvi, em_vis, regionInt, 'Emissivity')\n",
        "map = add_ee_layer(map, lst_landsat_median, lst_vis, regionInt, 'LST_Landsat_Median')\n",
        "\n",
        "# Add layer control to toggle different layers\n",
        "folium.LayerControl().add_to(map)\n",
        "\n",
        "# Create a color map for the temperature range\n",
        "temperature_colormap = cm.LinearColormap(lst_vis['palette'],\n",
        "                                         vmin=lst_vis['min'],\n",
        "                                         vmax=lst_vis['max'])\n",
        "legend_html = '''\n",
        "    <div style=\"position: fixed; bottom: 50px; left: 50px; z-index:1000; background-color: white; border: 2px solid grey; padding: 10px;\">\n",
        "        <p><strong>Legend:</strong></p>\n",
        "        <p><span style=\"background-color: #2b83ba; padding: 2px 5px;\"></span> 15°C - 20°C</p>\n",
        "        <p><span style=\"background-color: #abdda4; padding: 2px 5px;\"></span> 20°C - 25°C</p>\n",
        "        <p><span style=\"background-color: #ffffbf; padding: 2px 5px;\"></span> 25°C - 30°C</p>\n",
        "        <p><span style=\"background-color: #fdae61; padding: 2px 5px;\"></span> 30°C - 35°C</p>\n",
        "        <p><span style=\"background-color: #d7191c; padding: 2px 5px;\"></span> > 35°C</p>\n",
        "    </div>\n",
        "'''\n",
        "\n",
        "# Add the color map to the map legend\n",
        "temperature_colormap.caption = 'Temperature (°C)'\n",
        "map.add_child(temperature_colormap)\n",
        "\n",
        "# map.get_root().html.add_child(folium.Element(legend_html))\n",
        "\n",
        "# Display the map\n",
        "map"
      ],
      "metadata": {
        "id": "VjUGjPFDL11P"
      },
      "execution_count": null,
      "outputs": []
    },
    {
      "cell_type": "markdown",
      "source": [
        "## Erstellung der verschiedenen Strukturtypen"
      ],
      "metadata": {
        "id": "30G8oE-ZHS8a"
      }
    },
    {
      "cell_type": "code",
      "source": [
        "# Structure Type LST Maps\n",
        "image = ee.Image(\"JRC/GHSL/P2023A/GHS_BUILT_C/2018\")\n",
        "GHSL = image.select('built_characteristics')\n",
        "\n",
        "# Define masks for different structure types\n",
        "maskOpenSpace = GHSL.eq(1).Or(GHSL.eq(2)).Or(GHSL.eq(3)).Or(GHSL.eq(4))\n",
        "maskBuiltSpacesRes = GHSL.eq(11).Or(GHSL.eq(12)).Or(GHSL.eq(13)).Or(GHSL.eq(14)).Or(GHSL.eq(15))\n",
        "maskBuiltSpacesNonRes = GHSL.eq(5).Or(GHSL.eq(21)).Or(GHSL.eq(22)).Or(GHSL.eq(23)).Or(GHSL.eq(24)).Or(GHSL.eq(25))\n",
        "maskUrban = maskBuiltSpacesRes.Or(maskBuiltSpacesNonRes)\n",
        "\n",
        "# Apply masks to NDVI, emissivity, and LST calculations\n",
        "ndvi_open_space = ndvi.updateMask(maskOpenSpace)\n",
        "em_open_space = em.updateMask(maskOpenSpace)\n",
        "lst_open_space = lst_landsat_median.updateMask(maskOpenSpace)\n",
        "\n",
        "ndvi_built_res = ndvi.updateMask(maskBuiltSpacesRes)\n",
        "em_built_res = em.updateMask(maskBuiltSpacesRes)\n",
        "lst_built_res = lst_landsat_median.updateMask(maskBuiltSpacesRes)\n",
        "\n",
        "ndvi_built_non_res = ndvi.updateMask(maskBuiltSpacesNonRes)\n",
        "em_built_non_res = em.updateMask(maskBuiltSpacesNonRes)\n",
        "lst_built_non_res = lst_landsat_median.updateMask(maskBuiltSpacesNonRes)\n",
        "\n",
        "ndvi_urban = ndvi.updateMask(maskUrban)\n",
        "em_urban = em.updateMask(maskUrban)\n",
        "lst_urban = lst_landsat_median.updateMask(maskUrban)\n",
        "\n",
        "# Visualize the results\n",
        "map = folium.Map(location=[48.521637, 9.057645], zoom_start=12)\n",
        "\n",
        "map = add_ee_layer(map, lst_open_space, lst_vis, regionInt, 'LST_Open_Space')\n",
        "map = add_ee_layer(map, lst_built_res, lst_vis, regionInt, 'LST_Built_Res')\n",
        "map = add_ee_layer(map, lst_built_non_res, lst_vis, regionInt, 'LST_Built_Non_Res')\n",
        "map = add_ee_layer(map, lst_urban, lst_vis, regionInt, 'LST_Urban')\n",
        "\n",
        "# Add layer control\n",
        "folium.LayerControl().add_to(map)\n",
        "\n",
        "# Display the map\n",
        "map\n"
      ],
      "metadata": {
        "id": "SOu7z_bgdHA2"
      },
      "execution_count": null,
      "outputs": []
    },
    {
      "cell_type": "markdown",
      "source": [
        "## Median LST der Strukturtypen\n",
        "\n"
      ],
      "metadata": {
        "id": "l_20WHqIHAHd"
      }
    },
    {
      "cell_type": "code",
      "source": [
        "# Calculate median temperature for each structure type\n",
        "median_lst_open_space = lst_open_space.reduceRegion(reducer=ee.Reducer.median(), geometry=regionInt, scale=30, maxPixels=1e9).get('B10')\n",
        "median_lst_built_res = lst_built_res.reduceRegion(reducer=ee.Reducer.median(), geometry=regionInt, scale=30, maxPixels=1e9).get('B10')\n",
        "median_lst_built_non_res = lst_built_non_res.reduceRegion(reducer=ee.Reducer.median(), geometry=regionInt, scale=30, maxPixels=1e9).get('B10')\n",
        "median_lst_urban = lst_urban.reduceRegion(reducer=ee.Reducer.median(), geometry=regionInt, scale=30, maxPixels=1e9).get('B10')\n",
        "\n",
        "# Convert median temperatures from Earth Engine objects to Python variables\n",
        "median_lst_open_space = median_lst_open_space.getInfo()\n",
        "median_lst_built_res = median_lst_built_res.getInfo()\n",
        "median_lst_built_non_res = median_lst_built_non_res.getInfo()\n",
        "median_lst_urban = median_lst_urban.getInfo()\n",
        "\n",
        "# Define structure types and their median temperatures\n",
        "structure_types = ['Open Space', 'Built Residential', 'Built Non-Residential', 'Urban']\n",
        "median_temperatures = [median_lst_open_space, median_lst_built_res, median_lst_built_non_res, median_lst_urban]\n",
        "\n",
        "# Create a bar plot\n",
        "plt.figure(figsize=(10, 6))\n",
        "bars = plt.bar(structure_types, median_temperatures, color='skyblue', width=0.5)\n",
        "\n",
        "# Add data labels to the bars\n",
        "for bar, temp in zip(bars, median_temperatures):\n",
        "    plt.text(bar.get_x() + bar.get_width() / 2, bar.get_height() + 0.5, f'{temp:.2f}°C', ha='center', va='bottom')\n",
        "\n",
        "# Add labels and title\n",
        "plt.xlabel('Structure Type')\n",
        "plt.ylabel('Median Temperature (°C)')\n",
        "plt.title('Median Temperature for Different Structure Types')\n",
        "\n",
        "# Customize the plot\n",
        "plt.ylim(0, 40)\n",
        "plt.grid(axis='y', linestyle='--', alpha=0.7)\n",
        "plt.xticks(rotation=45, ha='right')\n",
        "plt.tight_layout()\n",
        "\n",
        "\n",
        "# Show plot\n",
        "plt.show()\n"
      ],
      "metadata": {
        "id": "zolWPT4Fom0p"
      },
      "execution_count": null,
      "outputs": []
    },
    {
      "cell_type": "markdown",
      "source": [
        "## Fläche der einzelnen Strukturtypen"
      ],
      "metadata": {
        "id": "CcZeFiYtHJff"
      }
    },
    {
      "cell_type": "code",
      "source": [
        "def calculate_area(image):\n",
        "    # Multiply the image by pixel area to get the area in square meters\n",
        "    area_image = image.multiply(ee.Image.pixelArea())\n",
        "\n",
        "    # Reduce the area image within the specified region\n",
        "    area_stats = area_image.reduceRegion(reducer=ee.Reducer.sum(), geometry=regionInt.geometry(), scale=10)\n",
        "\n",
        "    # Get the sum of the area\n",
        "    area_sqm = area_stats.get('built_characteristics')\n",
        "\n",
        "    # Convert to square kilometers\n",
        "    area_sqkm = ee.Number(area_sqm).divide(1e6).getInfo()\n",
        "\n",
        "    return area_sqkm\n",
        "\n",
        "# Calculate areas for each structure type\n",
        "urban_area_sqkm = calculate_area(maskUrban)\n",
        "openSpaces_area_sqkm = calculate_area(maskOpenSpace)\n",
        "builtSpacesRes_area_sqkm = calculate_area(maskBuiltSpacesRes)\n",
        "builtSpacesNonRes_area_sqkm = calculate_area(maskBuiltSpacesNonRes)\n",
        "\n",
        "# Print the results\n",
        "print('Urban Structures (km²):', urban_area_sqkm)\n",
        "print('Open Spaces (km²):', openSpaces_area_sqkm)\n",
        "print('Built Spaces Residential (km²):', builtSpacesRes_area_sqkm)\n",
        "print('Built Spaces Non-Residential (km²):', builtSpacesNonRes_area_sqkm)\n",
        "\n",
        "\n",
        "# Define structure types and their areas\n",
        "structure_types = ['Urban Structures', 'Open Spaces', 'Built Spaces Residential', 'Built Spaces Non-Residential']\n",
        "areas_sqkm = [urban_area_sqkm, openSpaces_area_sqkm, builtSpacesRes_area_sqkm, builtSpacesNonRes_area_sqkm]\n",
        "\n",
        "# Sort structure types and areas_sqkm based on areas_sqkm\n",
        "structure_types_sorted, areas_sqkm_sorted = zip(*sorted(zip(structure_types, areas_sqkm), key=lambda x: x[1], reverse=True))\n",
        "\n",
        "# Create a bar plot\n",
        "plt.figure(figsize=(10, 6))\n",
        "bars = plt.bar(structure_types_sorted, areas_sqkm_sorted, color='skyblue')\n",
        "\n",
        "# Add data labels to the bars\n",
        "for bar, area in zip(bars, areas_sqkm_sorted):\n",
        "    plt.text(bar.get_x() + bar.get_width() / 2, bar.get_height() + 0.5, f'{area:.2f} km²', ha='center', va='bottom')\n",
        "\n",
        "# Add labels and title\n",
        "plt.xlabel('Structure Type')\n",
        "plt.ylabel('Area (km²)')\n",
        "plt.title('Area of Different Structure Types')\n",
        "\n",
        "# Customize the plot\n",
        "plt.grid(axis='y', linestyle='--', alpha=0.7)\n",
        "plt.xticks(rotation=45, ha='right')\n",
        "plt.tight_layout()\n",
        "\n",
        "# Show plot\n",
        "plt.show()\n"
      ],
      "metadata": {
        "id": "xA1V_yLKuuuU"
      },
      "execution_count": null,
      "outputs": []
    },
    {
      "cell_type": "markdown",
      "source": [
        "## Erstellen eine Datenrahmes mit LST Wert und Datum von den Bildern im Zeitraum"
      ],
      "metadata": {
        "id": "4bKLLcjgD56r"
      }
    },
    {
      "cell_type": "code",
      "source": [
        "\n",
        "# Define a function to calculate LST from NDVI, emissivity, and brightness temperature\n",
        "def calculate_lst(img):\n",
        "    # Calculate NDVI\n",
        "    ndvi = img.normalizedDifference(['B5', 'B4']).rename('NDVI')\n",
        "\n",
        "    # Find the minimum and maximum of NDVI\n",
        "    min_max = ndvi.reduceRegion(\n",
        "        reducer=ee.Reducer.minMax(),\n",
        "        geometry=regionInt,\n",
        "        scale=30,\n",
        "        maxPixels=1e9\n",
        "    )\n",
        "\n",
        "    # Calculate fractional vegetation\n",
        "    min_val = ee.Number(min_max.get('NDVI_min'))\n",
        "    max_val = ee.Number(min_max.get('NDVI_max'))\n",
        "    fv = ndvi.subtract(min_val).divide(max_val.subtract(min_val)).rename('FV')\n",
        "\n",
        "    # Emissivity calculations\n",
        "    a = ee.Number(0.004)\n",
        "    b = ee.Number(0.986)\n",
        "    em = fv.multiply(a).add(b).rename('EMM')\n",
        "\n",
        "    # Calculate LST using emissivity and brightness temperature\n",
        "    tb = img.select('B10')\n",
        "    lst = tb.expression(\n",
        "        '(Tb / (1 + (0.001145 * (Tb / 1.438)) * log(Em))) - 273.15',\n",
        "        {\n",
        "            'Tb': tb,\n",
        "            'Em': em\n",
        "        }\n",
        "    ).rename('LST')\n",
        "\n",
        "    return lst\n",
        "\n",
        "\n",
        "# Apply the function to each image in the collection\n",
        "col_lst = col_after.map(calculate_lst)\n",
        "\n",
        "# Join the original collection with the LST collection based on image ID\n",
        "joined_collection = ee.ImageCollection(ee.Join.saveAll(matchesKey='matches').apply(**{\n",
        "  'primary': col_after,\n",
        "  'secondary': col_lst,\n",
        "  'condition': ee.Filter.equals(**{\n",
        "      'leftField': 'system:index',\n",
        "      'rightField': 'system:index'\n",
        "    })\n",
        "}))\n",
        "\n",
        "# Initialize lists to store date and LST values\n",
        "dates_lst = []\n",
        "lst_values = []\n",
        "\n",
        "# Iterate through the joined collection to extract date and LST values\n",
        "for image in joined_collection.toList(joined_collection.size()):\n",
        "    image = ee.Image(image)\n",
        "    date = ee.Date(image.get('system:time_start')).format('YYYY-MM-dd').getInfo()\n",
        "    lst = image.select('LST').reduceRegion(reducer=ee.Reducer.first(), geometry=regionInt, scale=30).get('LST').getInfo()\n",
        "\n",
        "    # Check if both date and LST values are available\n",
        "    if date is not None and lst is not None:\n",
        "        dates_lst.append(date)\n",
        "        lst_values.append(lst)\n",
        "\n",
        "# Create a DataFrame\n",
        "df = pd.DataFrame({'Date': dates_lst, 'LST': lst_values})\n",
        "\n",
        "# Print the DataFrame\n",
        "print(df)\n",
        "\n"
      ],
      "metadata": {
        "colab": {
          "base_uri": "https://localhost:8080/",
          "height": 211
        },
        "id": "ENC2BnaV7qdG",
        "outputId": "b55ac4d1-f9ff-4cbe-f8d4-3047fe27b9a7"
      },
      "execution_count": 89,
      "outputs": [
        {
          "output_type": "display_data",
          "data": {
            "text/plain": [
              "<IPython.core.display.HTML object>"
            ],
            "text/html": [
              "\n",
              "            <style>\n",
              "                .geemap-dark {\n",
              "                    --jp-widgets-color: white;\n",
              "                    --jp-widgets-label-color: white;\n",
              "                    --jp-ui-font-color1: white;\n",
              "                    --jp-layout-color2: #454545;\n",
              "                    background-color: #383838;\n",
              "                }\n",
              "\n",
              "                .geemap-dark .jupyter-button {\n",
              "                    --jp-layout-color3: #383838;\n",
              "                }\n",
              "\n",
              "                .geemap-colab {\n",
              "                    background-color: var(--colab-primary-surface-color, white);\n",
              "                }\n",
              "\n",
              "                .geemap-colab .jupyter-button {\n",
              "                    --jp-layout-color3: var(--colab-primary-surface-color, white);\n",
              "                }\n",
              "            </style>\n",
              "            "
            ]
          },
          "metadata": {}
        },
        {
          "output_type": "error",
          "ename": "TypeError",
          "evalue": "'List' object is not iterable",
          "traceback": [
            "\u001b[0;31m---------------------------------------------------------------------------\u001b[0m",
            "\u001b[0;31mTypeError\u001b[0m                                 Traceback (most recent call last)",
            "\u001b[0;32m<ipython-input-89-70aabdaabeda>\u001b[0m in \u001b[0;36m<cell line: 57>\u001b[0;34m()\u001b[0m\n\u001b[1;32m     55\u001b[0m \u001b[0;34m\u001b[0m\u001b[0m\n\u001b[1;32m     56\u001b[0m \u001b[0;31m# Iterate through the joined collection to extract date and LST values\u001b[0m\u001b[0;34m\u001b[0m\u001b[0;34m\u001b[0m\u001b[0m\n\u001b[0;32m---> 57\u001b[0;31m \u001b[0;32mfor\u001b[0m \u001b[0mimage\u001b[0m \u001b[0;32min\u001b[0m \u001b[0mjoined_collection\u001b[0m\u001b[0;34m.\u001b[0m\u001b[0mtoList\u001b[0m\u001b[0;34m(\u001b[0m\u001b[0mjoined_collection\u001b[0m\u001b[0;34m.\u001b[0m\u001b[0msize\u001b[0m\u001b[0;34m(\u001b[0m\u001b[0;34m)\u001b[0m\u001b[0;34m)\u001b[0m\u001b[0;34m:\u001b[0m\u001b[0;34m\u001b[0m\u001b[0;34m\u001b[0m\u001b[0m\n\u001b[0m\u001b[1;32m     58\u001b[0m     \u001b[0mimage\u001b[0m \u001b[0;34m=\u001b[0m \u001b[0mee\u001b[0m\u001b[0;34m.\u001b[0m\u001b[0mImage\u001b[0m\u001b[0;34m(\u001b[0m\u001b[0mimage\u001b[0m\u001b[0;34m)\u001b[0m\u001b[0;34m\u001b[0m\u001b[0;34m\u001b[0m\u001b[0m\n\u001b[1;32m     59\u001b[0m     \u001b[0mdate\u001b[0m \u001b[0;34m=\u001b[0m \u001b[0mee\u001b[0m\u001b[0;34m.\u001b[0m\u001b[0mDate\u001b[0m\u001b[0;34m(\u001b[0m\u001b[0mimage\u001b[0m\u001b[0;34m.\u001b[0m\u001b[0mget\u001b[0m\u001b[0;34m(\u001b[0m\u001b[0;34m'system:time_start'\u001b[0m\u001b[0;34m)\u001b[0m\u001b[0;34m)\u001b[0m\u001b[0;34m.\u001b[0m\u001b[0mformat\u001b[0m\u001b[0;34m(\u001b[0m\u001b[0;34m'YYYY-MM-dd'\u001b[0m\u001b[0;34m)\u001b[0m\u001b[0;34m.\u001b[0m\u001b[0mgetInfo\u001b[0m\u001b[0;34m(\u001b[0m\u001b[0;34m)\u001b[0m\u001b[0;34m\u001b[0m\u001b[0;34m\u001b[0m\u001b[0m\n",
            "\u001b[0;31mTypeError\u001b[0m: 'List' object is not iterable"
          ]
        }
      ]
    },
    {
      "cell_type": "markdown",
      "source": [
        "# Temporale Statistiken"
      ],
      "metadata": {
        "id": "Dn93TIyqG2jY"
      }
    },
    {
      "cell_type": "markdown",
      "source": [
        "## Import Packages"
      ],
      "metadata": {
        "id": "Kne55xNJmyAp"
      }
    },
    {
      "cell_type": "code",
      "source": [
        "# Import packages\n",
        "import pandas as pd\n",
        "import os\n",
        "import numpy as np\n",
        "import plotly.graph_objects as go\n"
      ],
      "metadata": {
        "id": "UJ25priimYvO"
      },
      "execution_count": null,
      "outputs": []
    },
    {
      "cell_type": "markdown",
      "source": [
        "## Pandas Zeitreihe"
      ],
      "metadata": {
        "id": "fz2gRr3-mLVY"
      }
    },
    {
      "cell_type": "markdown",
      "source": [
        "### Einzelne Zeitreihenanalyse"
      ],
      "metadata": {
        "id": "O2nyiif8m-Ii"
      }
    },
    {
      "cell_type": "code",
      "source": [
        "from google.colab import drive\n",
        "\n",
        "# Change directory to where your CSV file is located\n",
        "os.chdir(\"/content/drive/MyDrive/Data\")\n",
        "\n",
        "# First DF\n",
        "file_path = \"LST_Time_Series_Esslingen.csv\"\n",
        "df = pd.read_csv(file_path)\n",
        "\n",
        "# Change column header\n",
        "df = df.rename(columns={'system:time_start': 'Date'})\n",
        "df_drop = df.dropna()\n",
        "\n",
        "# Display the first few rows of the dataframe\n",
        "print(df_drop.head())\n",
        "\n",
        "# Set 'Date' column as index for df_drop\n",
        "df_drop.set_index('Date', inplace=True)\n",
        "\n",
        "# Drop rows containing negative values in the 'LST' column\n",
        "df_new = df_drop[df_drop['LST'] >= 0]\n",
        "\n",
        "# Extract filename without directory path and extension\n",
        "file_name = os.path.splitext(os.path.basename(file_path))[0]\n",
        "\n",
        "# Split filename by underscores and take the last part\n",
        "file_name_parts = file_name.split('_')\n",
        "last_part = file_name_parts[-1]\n",
        "\n",
        "# Plot the time series with trendline\n",
        "plt.figure(figsize=(12, 8))\n",
        "plt.plot(df_new.index, df_new['LST'], color='skyblue', linestyle='-', linewidth=2, label='LST Data')\n",
        "plt.title(f'Zeitreihe der Oberflächentemperatur von 2000-2023 in {last_part}', fontsize=16)  # Use last part of filename in title\n",
        "plt.xlabel('Datum', fontsize=14)\n",
        "plt.ylabel('Temperatur in °C', fontsize=14)\n",
        "plt.xticks(fontsize=12, rotation=45)\n",
        "plt.yticks(fontsize=12)\n",
        "plt.grid(True, alpha=0.3)\n",
        "\n",
        "# Perform linear regression\n",
        "x = np.arange(len(df_new))\n",
        "m, b = np.polyfit(x, df_new['LST'], 1)\n",
        "\n",
        "# Plot the trendline\n",
        "plt.plot(df_new.index, m*x + b, color='red', linestyle='--', linewidth=2, label='Trendline')\n",
        "\n",
        "plt.legend(fontsize=12)\n",
        "plt.tight_layout()\n",
        "\n",
        "# Adjust x-axis ticks frequency\n",
        "plt.gca().xaxis.set_major_locator(plt.MaxNLocator(10))\n",
        "\n",
        "plt.show()"
      ],
      "metadata": {
        "id": "H6bWmJ4P7thi"
      },
      "execution_count": null,
      "outputs": []
    },
    {
      "cell_type": "markdown",
      "source": [
        "### Vergleichende Zeitreihenanalyse"
      ],
      "metadata": {
        "id": "LqYdL7CxnSjV"
      }
    },
    {
      "cell_type": "code",
      "source": [
        "def process_and_plot_dataframes(file_paths):\n",
        "    \"\"\"\n",
        "    Read in CSV files, rename a column, set index,\n",
        "    and drop rows with negative values in a specific column for each DataFrame.\n",
        "    Align the DataFrames based on the date index.\n",
        "    Plot multiple time series in one plot with trendlines.\n",
        "\n",
        "    Args:\n",
        "    - file_paths (list of str): List of file paths to the CSV files\n",
        "    \"\"\"\n",
        "    plt.figure(figsize=(12, 8))\n",
        "\n",
        "    # Dictionary to store processed DataFrames\n",
        "    processed_dfs = {}\n",
        "\n",
        "    for file_path in file_paths:\n",
        "        # Extract filename without directory path and extension\n",
        "        file_name = os.path.splitext(os.path.basename(file_path))[0]\n",
        "        last_part = file_name.split('_')[-1]\n",
        "\n",
        "        if last_part not in processed_dfs:  # Check if filename already exists in dictionary\n",
        "            # Read the CSV file\n",
        "            df = pd.read_csv(file_path)\n",
        "\n",
        "            # Change column header\n",
        "            df = df.rename(columns={'system:time_start': 'Date'})\n",
        "\n",
        "            # Set 'Date' column as index\n",
        "            df['Date'] = pd.to_datetime(df['Date'])\n",
        "            df.set_index('Date', inplace=True)\n",
        "\n",
        "            # Drop rows containing negative values in the 'LST' column\n",
        "            df = df[df['LST'] >= 0]\n",
        "\n",
        "            # Remove duplicate rows\n",
        "            df = df[~df.index.duplicated()]\n",
        "\n",
        "            # Store processed DataFrame in the dictionary\n",
        "            processed_dfs[last_part] = df\n",
        "\n",
        "    # Perform outer join on date index to align DataFrames\n",
        "    aligned_df = pd.concat(processed_dfs.values(), axis=1, join='outer')\n",
        "\n",
        "    # Drop rows containing NaN values after aligning\n",
        "    aligned_df.dropna(inplace=True)\n",
        "\n",
        "    # Plot time series\n",
        "    for filename, df in processed_dfs.items():\n",
        "        plt.plot(df.index, df['LST'], label=filename)\n",
        "\n",
        "    # Add plot labels and legend\n",
        "    plt.title('Time Series of LST (Land Surface Temperature)', fontsize=16)\n",
        "    plt.xlabel('Date', fontsize=14)\n",
        "    plt.ylabel('LST', fontsize=14)\n",
        "    plt.xticks(fontsize=12, rotation=45)\n",
        "    plt.yticks(fontsize=12)\n",
        "    plt.grid(True, alpha=0.3)\n",
        "    plt.legend(fontsize=12)\n",
        "    plt.gca().xaxis.set_major_locator(YearLocator())  # Show only the years on the x-axis\n",
        "    plt.tight_layout()\n",
        "    plt.show()\n",
        "\n",
        "# Example usage:\n",
        "file_paths = [\"LST_Time_Series_Esslingen.csv\", \"LST_Time_Series_Stuttgart.csv\"]\n",
        "process_and_plot_dataframes(file_paths)\n"
      ],
      "metadata": {
        "id": "OMEN8jJJIgkM"
      },
      "execution_count": null,
      "outputs": []
    },
    {
      "cell_type": "markdown",
      "source": [
        "### Detrend Zeitreihenanalyse"
      ],
      "metadata": {
        "id": "_H4cBHWcnXkz"
      }
    },
    {
      "cell_type": "code",
      "source": [
        "from statsmodels.tsa.seasonal import seasonal_decompose\n",
        "from dateutil.parser import parse\n",
        "\n",
        "# Multiplicative Decomposition\n",
        "multiplicative_decomposition = seasonal_decompose(df_new['LST'], model='multiplicative', period=30)\n",
        "\n",
        "# Plot\n",
        "plt.rcParams.update({'figure.figsize': (16,12)})\n",
        "multiplicative_decomposition.plot().suptitle('Multiplicative Decomposition', fontsize=16)\n",
        "plt.tight_layout(rect=[0, 0.03, 1, 0.95])\n",
        "\n",
        "plt.show()"
      ],
      "metadata": {
        "id": "cLIrITEphmWH"
      },
      "execution_count": null,
      "outputs": []
    },
    {
      "cell_type": "markdown",
      "source": [
        "## Plotly Zeitreihenanalyse"
      ],
      "metadata": {
        "id": "B5ousS7unfo4"
      }
    },
    {
      "cell_type": "markdown",
      "source": [
        "### Einzelne Zeitreihenanalyse"
      ],
      "metadata": {
        "id": "NGS22AyjniA-"
      }
    },
    {
      "cell_type": "code",
      "source": [
        "# Change directory to where your CSV file is located\n",
        "os.chdir(\"/content/drive/MyDrive/Data\")\n",
        "\n",
        "# First DF\n",
        "file_path = \"LST_Time_Series_Esslingen.csv\"\n",
        "df = pd.read_csv(file_path)\n",
        "\n",
        "# Change column header\n",
        "df = df.rename(columns={'system:time_start': 'Date'})\n",
        "df_drop = df.dropna()\n",
        "\n",
        "# Set 'Date' column as index for df_drop\n",
        "df_drop.set_index('Date', inplace=True)\n",
        "\n",
        "# Drop rows containing negative values in the 'LST' column\n",
        "df_new = df_drop[df_drop['LST'] >= 0]\n",
        "\n",
        "# Extract filename without directory path and extension\n",
        "file_name = os.path.splitext(os.path.basename(file_path))[0]\n",
        "\n",
        "# Split filename by underscores and take the last part\n",
        "file_name_parts = file_name.split('_')\n",
        "last_part = file_name_parts[-1]\n",
        "\n",
        "# Create trace for LST data\n",
        "trace_lst = go.Scatter(x=df_new.index, y=df_new['LST'], mode='lines', name='LST Data', line=dict(color='skyblue'))\n",
        "\n",
        "# Perform linear regression\n",
        "x = np.arange(len(df_new))\n",
        "m, b = np.polyfit(x, df_new['LST'], 1)\n",
        "\n",
        "# Calculate trendline\n",
        "trendline = m * x + b\n",
        "\n",
        "# Create trace for trendline\n",
        "trace_trendline = go.Scatter(x=df_new.index, y=trendline, mode='lines', name='Trendline', line=dict(color='red', dash='dash'))\n",
        "\n",
        "# Create layout\n",
        "layout = go.Layout(title=f'Zeitreihe der Oberflächentemperatur von 2000-2023 in {last_part}',\n",
        "                   xaxis=dict(title='Datum'),\n",
        "                   yaxis=dict(title='Temperatur in °C'),\n",
        "                   legend=dict(font=dict(size=12)))\n",
        "\n",
        "# Create figure\n",
        "fig = go.Figure(data=[trace_lst, trace_trendline], layout=layout)\n",
        "\n",
        "# Show plot\n",
        "fig.show()\n"
      ],
      "metadata": {
        "id": "s0t1z5Pml2jk"
      },
      "execution_count": null,
      "outputs": []
    },
    {
      "cell_type": "markdown",
      "source": [
        "### Vergleichende Zeitreihenanalyse"
      ],
      "metadata": {
        "id": "MJaAn5_unmUs"
      }
    },
    {
      "cell_type": "code",
      "source": [
        "from scipy.stats import linregress\n",
        "\n",
        "def calculate_trendline(x, y):\n",
        "    \"\"\"\n",
        "    Calculate the trendline using linear regression.\n",
        "\n",
        "    Args:\n",
        "    - x (array-like): Independent variable values\n",
        "    - y (array-like): Dependent variable values\n",
        "\n",
        "    Returns:\n",
        "    - trendline (array-like): Predicted values of the trendline\n",
        "    \"\"\"\n",
        "    slope, intercept, _, _, _ = linregress(x, y)\n",
        "    trendline = slope * x + intercept\n",
        "    return trendline\n",
        "\n",
        "def process_and_plot_dataframes(file_path_city_a, file_path_city_b):\n",
        "    \"\"\"\n",
        "    Read in CSV files for two cities, align the time series,\n",
        "    drop values lower than -10, calculate the trendlines,\n",
        "    and plot the comparison of LST between the two cities with trendlines.\n",
        "\n",
        "    Args:\n",
        "    - file_path_city_a (str): File path to the CSV file for city A\n",
        "    - file_path_city_b (str): File path to the CSV file for city B\n",
        "    \"\"\"\n",
        "    # Read the CSV files for both cities\n",
        "    df_city_a = pd.read_csv(file_path_city_a)\n",
        "    df_city_b = pd.read_csv(file_path_city_b)\n",
        "\n",
        "    # Extract last part of the filenames\n",
        "    label_city_a = os.path.splitext(os.path.basename(file_path_city_a))[0].split('_')[-1]\n",
        "    label_city_b = os.path.splitext(os.path.basename(file_path_city_b))[0].split('_')[-1]\n",
        "\n",
        "    # Change column headers\n",
        "    df_city_a = df_city_a.rename(columns={'system:time_start': 'Date', 'LST': f'LST_{label_city_a}'})\n",
        "    df_city_b = df_city_b.rename(columns={'system:time_start': 'Date', 'LST': f'LST_{label_city_b}'})\n",
        "\n",
        "    # Set 'Date' column as index\n",
        "    df_city_a['Date'] = pd.to_datetime(df_city_a['Date'])\n",
        "    df_city_b['Date'] = pd.to_datetime(df_city_b['Date'])\n",
        "    df_city_a.set_index('Date', inplace=True)\n",
        "    df_city_b.set_index('Date', inplace=True)\n",
        "\n",
        "    # Ensure alignment of data based on date index\n",
        "    aligned_df = df_city_a.join(df_city_b, how='outer')\n",
        "\n",
        "    # Drop rows containing NaN values after aligning\n",
        "    aligned_df.dropna(inplace=True)\n",
        "\n",
        "    # Drop values lower than -10\n",
        "    aligned_df = aligned_df[(aligned_df[f'LST_{label_city_a}'] >= -10) & (aligned_df[f'LST_{label_city_b}'] >= -10)]\n",
        "\n",
        "    # Calculate trendlines for both cities\n",
        "    trendline_city_a = calculate_trendline(range(len(aligned_df)), aligned_df[f'LST_{label_city_a}'])\n",
        "    trendline_city_b = calculate_trendline(range(len(aligned_df)), aligned_df[f'LST_{label_city_b}'])\n",
        "\n",
        "    # Create Plotly figure\n",
        "    fig = go.Figure()\n",
        "\n",
        "    # Add traces for LST of both cities\n",
        "    fig.add_trace(go.Scatter(x=aligned_df.index, y=aligned_df[f'LST_{label_city_a}'],\n",
        "                             mode='lines', name=label_city_a))\n",
        "    fig.add_trace(go.Scatter(x=aligned_df.index, y=aligned_df[f'LST_{label_city_b}'],\n",
        "                             mode='lines', name=label_city_b))\n",
        "\n",
        "    # Add trendlines with the same color as the cities\n",
        "    fig.add_trace(go.Scatter(x=aligned_df.index, y=trendline_city_a,\n",
        "                             mode='lines', name=f'Trendline {label_city_a}', line=dict(color='blue', dash='dash')))\n",
        "    fig.add_trace(go.Scatter(x=aligned_df.index, y=trendline_city_b,\n",
        "                             mode='lines', name=f'Trendline {label_city_b}', line=dict(color='red', dash='dash')))\n",
        "\n",
        "    # Update layout\n",
        "    fig.update_layout(title=f'Vergleich von Bodenoberflächentemperaturen zwischen {label_city_a} und {label_city_b} von 2000-2023',\n",
        "                      xaxis_title='Datum',\n",
        "                      yaxis_title='Temperatur in °C',\n",
        "                      template='plotly_white')\n",
        "\n",
        "    # Show plot\n",
        "    fig.show()\n",
        "\n",
        "# Example usage:\n",
        "file_path_city_a = \"LST_Time_Series_Esslingen.csv\"\n",
        "file_path_city_b = \"LST_Time_Series_Stuttgart.csv\"\n",
        "process_and_plot_dataframes(file_path_city_a, file_path_city_b)\n"
      ],
      "metadata": {
        "id": "yWa2W_wR-bb3"
      },
      "execution_count": null,
      "outputs": []
    },
    {
      "cell_type": "markdown",
      "source": [
        "### Temperaturdifferenz Zeitreihen"
      ],
      "metadata": {
        "id": "YhOtnKd3nrMp"
      }
    },
    {
      "cell_type": "code",
      "source": [
        "def process_and_plot_dataframes(file_path_city_a, file_path_city_b):\n",
        "    df_city_a = pd.read_csv(file_path_city_a)\n",
        "    df_city_b = pd.read_csv(file_path_city_b)\n",
        "\n",
        "    label_city_a = os.path.splitext(os.path.basename(file_path_city_a))[0].split('_')[-1]\n",
        "    label_city_b = os.path.splitext(os.path.basename(file_path_city_b))[0].split('_')[-1]\n",
        "\n",
        "    df_city_a = df_city_a.rename(columns={'system:time_start': 'Date', 'LST': f'LST_{label_city_a}'})\n",
        "    df_city_b = df_city_b.rename(columns={'system:time_start': 'Date', 'LST': f'LST_{label_city_b}'})\n",
        "\n",
        "    df_city_a['Date'] = pd.to_datetime(df_city_a['Date'])\n",
        "    df_city_b['Date'] = pd.to_datetime(df_city_b['Date'])\n",
        "    df_city_a.set_index('Date', inplace=True)\n",
        "    df_city_b.set_index('Date', inplace=True)\n",
        "\n",
        "    aligned_df = df_city_a.join(df_city_b, how='outer')\n",
        "    aligned_df.dropna(inplace=True)\n",
        "\n",
        "    aligned_df['Difference'] = aligned_df[f'LST_{label_city_b}'] - aligned_df[f'LST_{label_city_a}']\n",
        "\n",
        "    fig = go.Figure()\n",
        "\n",
        "    fig.add_trace(go.Scatter(x=aligned_df.index, y=aligned_df['Difference'],\n",
        "                             mode='lines', name=f'Difference {label_city_b} - {label_city_a}'))\n",
        "\n",
        "    fig.update_layout(title=f'Temperaturunterschied der Bodenoberflächentemperatur zwischen {label_city_b} und {label_city_a}',\n",
        "                      xaxis_title='Datum',\n",
        "                      yaxis_title='Unterschied der Temperatur in °C',\n",
        "                      template='plotly_white')\n",
        "\n",
        "    fig.show()\n",
        "\n",
        "# Usage:\n",
        "file_path_city_a = \"LST_Time_Series_Esslingen.csv\"\n",
        "file_path_city_b = \"LST_Time_Series_Stuttgart.csv\"\n",
        "process_and_plot_dataframes(file_path_city_a, file_path_city_b)\n",
        "\n",
        "# if positve value the temperature is higher in city b"
      ],
      "metadata": {
        "id": "I5v3pztRIzgC"
      },
      "execution_count": null,
      "outputs": []
    }
  ]
}